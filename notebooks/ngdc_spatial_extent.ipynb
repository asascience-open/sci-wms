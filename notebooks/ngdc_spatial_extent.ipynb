{
 "metadata": {
  "name": "",
  "signature": "sha256:54138b7cff546556f2b402388ffb96a0de272ef18b9f2f57cd563441e6a1463c"
 },
 "nbformat": 3,
 "nbformat_minor": 0,
 "worksheets": [
  {
   "cells": [
    {
     "cell_type": "markdown",
     "metadata": {},
     "source": [
      "A notebook to determine the best way to automatically extract the JSON response Charlton wants for the sciwms comt testbed.\n",
      "\n",
      "Even though there are compliance guarantees a lot of variables have non-standard names. For example, Charlton wants the spatial extend of each dataset. Some grid coordinate variables are called 'lat'/'lon' or 'x'/'y' or 'lat_u'/'lon_u' or 'lat_rho'/'lon_rho' etc.\n",
      "\n",
      "I found that checking for 'lat'/'lon', 'x'/'y', 'lat_u'/'lon_u' or 'lat_v'/'lon_v' was enough to get grid coordinates for all datasets on the testbed.\n",
      "\n",
      "Using this map, I can get the correct coordinate arrays and computing the minimal bounding box."
     ]
    },
    {
     "cell_type": "code",
     "collapsed": false,
     "input": [
      "from owslib import fes, csw\n",
      "from netCDF4 import Dataset, num2date, date2num\n",
      "\n",
      "import numpy as np\n",
      "\n",
      "import json\n",
      "import re"
     ],
     "language": "python",
     "metadata": {},
     "outputs": [],
     "prompt_number": 3
    },
    {
     "cell_type": "code",
     "collapsed": false,
     "input": [
      "endpoint = \"http://www.ngdc.noaa.gov/geoportal/csw\"\n",
      "uuid = '8BF00750-66C7-49FF-8894-4D4F96FD86C0'\n",
      "uuid_filter = fes.PropertyIsEqualTo(propertyname='sys.siteuuid', literal=\"{{{0}}}\".format(uuid))\n",
      "timeout = 120\n",
      "csw_catalogue = csw.CatalogueServiceWeb(endpoint, timeout=timeout)\n",
      "csw_catalogue.getrecords2([uuid_filter], esn='full', maxrecords=999999)"
     ],
     "language": "python",
     "metadata": {},
     "outputs": [],
     "prompt_number": 4
    },
    {
     "cell_type": "code",
     "collapsed": false,
     "input": [
      "missing = []\n",
      "urls = {}\n",
      "for name, record in csw_catalogue.records.iteritems():\n",
      "    legal_name = re.sub('[ .!,;\\-/\\\\\\\\]','_', name)\n",
      "    \n",
      "    for ref in record.references:\n",
      "        if 'odp' in ref.get('scheme').split(\":\"):\n",
      "            urls[legal_name] = ref['url']\n",
      "            d = Dataset(ref['url'],'r')    \n",
      "            lat_obj = d.variables.get('lat')\n",
      "            lon_obj = d.variables.get('lon')\n",
      "            if lat_obj and lon_obj:\n",
      "                pass\n",
      "            else:\n",
      "#                 print '{0} is missing lat/lon'.format(legal_name)\n",
      "                missing.append(legal_name)\n",
      "            break\n",
      "        \n",
      "print \"{0} of {1} are missing lat/lon\".format(len(missing), len(csw_catalogue.records))"
     ],
     "language": "python",
     "metadata": {},
     "outputs": [
      {
       "output_type": "stream",
       "stream": "stdout",
       "text": [
        "61 of 111 are missing lat/lon\n"
       ]
      }
     ],
     "prompt_number": 5
    },
    {
     "cell_type": "code",
     "collapsed": false,
     "input": [
      "hasxy = []\n",
      "missingxy = []\n",
      "for name in missing:\n",
      "    url = urls[name]\n",
      "    #print '{0} {1}'.format(name, url)\n",
      "    d = Dataset(url,'r')\n",
      "    xobj = d.variables.get('x')\n",
      "    yobj = d.variables.get('y')\n",
      "    if xobj and yobj:\n",
      "        hasxy.append(name)\n",
      "    else:\n",
      "        missingxy.append(name)\n",
      "    \n",
      "print \"{0} of {1} has x,y as coord name\".format(len(hasxy), len(missing))"
     ],
     "language": "python",
     "metadata": {},
     "outputs": [
      {
       "output_type": "stream",
       "stream": "stdout",
       "text": [
        "51 of 61 has x,y as coord name\n"
       ]
      }
     ],
     "prompt_number": 6
    },
    {
     "cell_type": "code",
     "collapsed": false,
     "input": [
      "print missingxy"
     ],
     "language": "python",
     "metadata": {},
     "outputs": [
      {
       "output_type": "stream",
       "stream": "stdout",
       "text": [
        "['shelf_hypoxia_TAMU_ROMS_2004_2009_ngom_obc_24h', 'shelf_hypoxia_TAMU_ROMS_2004_2009_iasnfs_obc_24h', 'shelf_hypoxia_TAMU_ROMS_2004_2009_hycom_obc_24h', 'shelf_hypoxia_DAL_ROMS_2004_2009_ias_obc_with_oxygen_inst_rem_30layers', 'shelf_hypoxia_DAL_ROMS_2004_2009_ias_obc_with_oxygen_hnd_soc_30layers', 'shelf_hypoxia_DAL_ROMS_2004_2009_hycom_obc_with_oxygen_inst_rem_30layers', 'shelf_hypoxia_DAL_ROMS_2004_2009_hycom_obc_with_oxygen_hnd_soc_30layers', 'shelf_hypoxia_DAL_ROMS_2004_2009_climatology_obc_with_oxygen_inst_rem_20layers', 'shelf_hypoxia_DAL_ROMS__2004_2009_climatology_obc_with_oxygen_hnd_soc_20layers', 'estuarine_hypoxia_VIMS_CBOFS_2004_2005']\n"
       ]
      }
     ],
     "prompt_number": 7
    },
    {
     "cell_type": "code",
     "collapsed": false,
     "input": [
      "grid_coord_names = {}\n",
      "for name, url in urls.iteritems():\n",
      "    d = Dataset(url,'r')\n",
      "    \n",
      "    grid_coord_names[name] = {}\n",
      "    if ('lat' in d.variables.keys()) and ('lon' in d.variables.keys()):\n",
      "        grid_coord_names[name]['lat'] = 'lat'\n",
      "        grid_coord_names[name]['lon'] = 'lon'\n",
      "        continue\n",
      "        \n",
      "    if ('x' in d.variables.keys()) and ('y' in d.variables.keys()):\n",
      "        grid_coord_names[name]['lat'] = 'x'\n",
      "        grid_coord_names[name]['lon'] = 'y'\n",
      "        continue\n",
      "        \n",
      "    if ('lat_u' in d.variables.keys()) and ('lon_u' in d.variables.keys()):\n",
      "        grid_coord_names[name]['lat'] = 'lat_u'\n",
      "        grid_coord_names[name]['lon'] = 'lon_u'\n",
      "        continue\n",
      "        \n",
      "    if('lat_v' in d.variables.keys()) and ('lon_v' in d.variables.keys()):\n",
      "        grid_coord_names[name]['lat'] = 'lat_v'\n",
      "        grid_coord_names[name]['lon'] = 'lon_v'\n",
      "        continue\n",
      "                       \n",
      "#     for k, v in d.variables.iteritems():\n",
      "#         if hasattr(v, 'standard_name'):\n",
      "#             if 'latitude' in v.standard_name:\n",
      "#                 grid_coord_names[name]['lat'] = k\n",
      "                \n",
      "                \n",
      "#             if 'longitude' in v.standard_name:\n",
      "#                 grid_coord_names[name]['lon'] = k\n",
      "                \n",
      "#         if len(grid_coord_names[name]) == 2:\n",
      "#             break\n",
      "            "
     ],
     "language": "python",
     "metadata": {},
     "outputs": [],
     "prompt_number": 8
    },
    {
     "cell_type": "code",
     "collapsed": false,
     "input": [
      "print grid_coord_names"
     ],
     "language": "python",
     "metadata": {},
     "outputs": [
      {
       "output_type": "stream",
       "stream": "stdout",
       "text": [
        "{'inundation_tropical_MDL_SLOSH_Hurricane_Rita_final_run_egm3': {'lat': 'lat', 'lon': 'lon'}, 'inundation_tropical_UND_ADCIRC_Hurricane_Ike_3D_final_run_without_waves': {'lat': 'x', 'lon': 'y'}, 'inundation_tropical_USF_FVCOM_Tides_only_2D_final_run': {'lat': 'lat', 'lon': 'lon'}, 'inundation_tropical_UND_SLOSH_Hurricane_Ike_final_run_egm3': {'lat': 'lat', 'lon': 'lon'}, 'shelf_hypoxia_NOAA_NGOM_2005_2011_NGOM': {'lat': 'lat', 'lon': 'lon'}, 'shelf_hypoxia_TAMU_ROMS_2004_2009_hycom_obc_24h': {'lat': 'lat_u', 'lon': 'lon_u'}, 'inundation_tropical_VIMS_SELFE_Hurricane_Ike_2D_final_run_wave_only': {'lat': 'x', 'lon': 'y'}, 'inundation_tropical_UND_ADCIRC_Hurricane_Ike_2D_preliminary_run_4_spinup_with_levees_and_river_flow': {'lat': 'x', 'lon': 'y'}, 'shelf_hypoxia_DAL_ROMS_2004_2009_hycom_obc_with_oxygen_hnd_soc_30layers': {'lat': 'lat_u', 'lon': 'lon_u'}, 'inundation_tropical_UND_ADCIRC_Hurricane_Rita_2D_final_run_without_waves': {'lat': 'x', 'lon': 'y'}, 'shelf_hypoxia_DAL_ROMS_2004_2009_ias_obc_with_oxygen_inst_rem_30layers': {'lat': 'lat_u', 'lon': 'lon_u'}, 'inundation_tropical_UND_ADCIRC_Hurricane_Rita_2D_preliminary_run_1_spinup': {'lat': 'x', 'lon': 'y'}, 'inundation_tropical_USF_FVCOM_Hurricane_Ike_3D_final_run_with_waves': {'lat': 'lat', 'lon': 'lon'}, 'inundation_tropical_UND_ADCIRC_Hurricane_Ike_2D_final_run_without_waves': {'lat': 'x', 'lon': 'y'}, 'inundation_tropical_UND_SLOSH_Hurricane_Ike_preliminary_run_5_egm3_with_SLOSH_winds': {'lat': 'lat', 'lon': 'lon'}, 'inundation_tropical_VIMS_SELFE_Hurricane_Ike_3D_final_run_with_waves': {'lat': 'x', 'lon': 'y'}, 'inundation_tropical_UND_ADCIRC_Hurricane_Ike_3D_final_run_with_waves': {'lat': 'x', 'lon': 'y'}, 'inundation_extratropical_UND_ADCIRC_2005_2D_final_run_with_waves': {'lat': 'x', 'lon': 'y'}, 'inundation_tropical_UND_SLOSH_Hurricane_Rita_preliminary_run_5_egm3_with_SLOSH_winds': {'lat': 'lat', 'lon': 'lon'}, 'inundation_tropical_UND_SLOSH_Hurricane_Rita_preliminary_run_6_egm3_with_SLOSH_winds_without_tides': {'lat': 'lat', 'lon': 'lon'}, 'inundation_extratropical_UND_ADCIRC_2005_2D_final_run_wave_model_only_without_circulation': {'lat': 'x', 'lon': 'y'}, 'inundation_tropical_UND_ADCIRC_Hurricane_Rita_3D_final_run_without_waves': {'lat': 'x', 'lon': 'y'}, 'inundation_extratropical_VIMS_SELFE_2005_2D_final_run_waves_only': {'lat': 'lat', 'lon': 'lon'}, 'inundation_tropical_UND_ADCIRC_Hurricane_Ike_2D_preliminary_run_5_tides_only': {'lat': 'x', 'lon': 'y'}, 'inundation_tropical_MDL_SLOSH_Hurricane_Ike_final_run_egm3': {'lat': 'lat', 'lon': 'lon'}, 'inundation_extratropical_VIMS_SELFE_2005_2D_preliminary_run_without_waves': {'lat': 'x', 'lon': 'y'}, 'inundation_extratropical_VIMS_SELFE_2007_2D_preliminary_run_without_waves': {'lat': 'x', 'lon': 'y'}, 'inundation_tropical_UND_SLOSH_Hurricane_Rita_final_run_egm3': {'lat': 'lat', 'lon': 'lon'}, 'estuarine_hypoxia_VIMS_CBOFS_2004_2005': {'lat': 'lat_u', 'lon': 'lon_u'}, 'inundation_tropical_UND_SLOSH_Hurricane_Rita_final_run_ebp3': {'lat': 'lat', 'lon': 'lon'}, 'inundation_tropical_UND_ADCIRC_Hurricane_Rita_3D_preliminary_run_1_spinup': {'lat': 'x', 'lon': 'y'}, 'inundation_tropical_USF_FVCOM_Tides_only_2D_preliminary_run_1_fixed_manning': {'lat': 'lat', 'lon': 'lon'}, 'inundation_tropical_USF_FVCOM_Hurricane_Ike_3D_final_run_without_waves': {'lat': 'lat', 'lon': 'lon'}, 'inundation_tropical_UND_SLOSH_Hurricane_Ike_preliminary_run_3_egl3_with_SLOSH_winds_without_tides': {'lat': 'lat', 'lon': 'lon'}, 'shelf_hypoxia_DAL_ROMS_2004_2009_hycom_obc_with_oxygen_inst_rem_30layers': {'lat': 'lat_u', 'lon': 'lon_u'}, 'inundation_tropical_UND_ADCIRC_Hurricane_Rita_2D_preliminary_run_4_with_waves_without_advection_implicit_1s': {'lat': 'x', 'lon': 'y'}, 'inundation_tropical_UND_ADCIRC_Hurricane_Rita_2D_final_run_with_waves': {'lat': 'x', 'lon': 'y'}, 'inundation_tropical_UND_ADCIRC_Hurricane_Ike_3D_preliminary_run_1_spinup': {'lat': 'x', 'lon': 'y'}, 'inundation_extratropical_UMASS_FVCOM_2005_3D_final_run_waves_only': {'lat': 'lat', 'lon': 'lon'}, 'inundation_tropical_USF_FVCOM_SWAN_Ike_final_run_with_2DSurge': {'lat': 'lat', 'lon': 'lon'}, 'inundation_extratropical_UMASS_FVCOM_2007_3D_final_run_with_waves': {'lat': 'lat', 'lon': 'lon'}, 'inundation_tropical_USF_FVCOM_SWAN_Rita_final_run_with_2DSurge': {'lat': 'lat', 'lon': 'lon'}, 'inundation_extratropical_VIMS_SELFE_2007_2D_preliminary_run_with_waves': {'lat': 'x', 'lon': 'y'}, 'estuarine_hypoxia_VIMS_EFDC_2004_DO3d': {'lat': 'lat', 'lon': 'lon'}, 'inundation_tropical_UND_ADCIRC_Hurricane_Ike_2D_final_run_with_waves': {'lat': 'x', 'lon': 'y'}, 'inundation_tropical_UND_ADCIRC_Hurricane_Rita_2D_preliminary_run_3_tides_only': {'lat': 'x', 'lon': 'y'}, 'inundation_tropical_UND_ADCIRC_Hurricane_Ike_Timing_with_waves': {'lat': 'x', 'lon': 'y'}, 'inundation_extratropical_VIMS_SELFE_2007_2D_preliminary_run_waves_only': {'lat': 'x', 'lon': 'y'}, 'inundation_tropical_UND_SLOSH_Hurricane_Rita_preliminary_run_1_ebp3_without_tides': {'lat': 'lat', 'lon': 'lon'}, 'inundation_tropical_UND_SLOSH_Hurricane_Rita_preliminary_run_4_egm3_without_tides': {'lat': 'lat', 'lon': 'lon'}, 'inundation_tropical_VIMS_SELFE_Hurricane_Rita_3D_final_run_with_waves': {'lat': 'x', 'lon': 'y'}, 'inundation_tropical_UND_ADCIRC_Hurricane_Ike_2D_preliminary_run_7_with_waves_without_advection_implicit_1s': {'lat': 'x', 'lon': 'y'}, 'inundation_extratropical_UND_ADCIRC_2007_2D_final_run_wave_model_only_without_circulation': {'lat': 'x', 'lon': 'y'}, 'inundation_tropical_UND_ADCIRC_Hurricane_Rita_2D_preliminary_run_2_spinup_without_advection_implicit_1s': {'lat': 'x', 'lon': 'y'}, 'inundation_tropical_UND_SLOSH_Hurricane_Ike_preliminary_run_4_egm3_without_tides': {'lat': 'lat', 'lon': 'lon'}, 'inundation_tropical_USF_FVCOM_Hurricane_Rita_3D_final_run_with_waves': {'lat': 'lat', 'lon': 'lon'}, 'inundation_extratropical_VIMS_SELFE_2007_2D_final_run_waves_only': {'lat': 'lat', 'lon': 'lon'}, 'inundation_tropical_UND_SLOSH_Hurricane_Rita_preliminary_run_3_ebp3_with_SLOSH_winds_without_tides': {'lat': 'lat', 'lon': 'lon'}, 'inundation_tropical_UND_SLOSH_Hurricane_Rita_preliminary_run_2_ebp3_with_SLOSH_winds': {'lat': 'lat', 'lon': 'lon'}, 'inundation_tropical_USF_FVCOM_SWAN_Rita_final_run_without_Surge': {'lat': 'lat', 'lon': 'lon'}, 'inundation_extratropical_UND_ADCIRC_2010_2D_final_run_tides_only': {'lat': 'x', 'lon': 'y'}, 'inundation_tropical_VIMS_SELFE_Hurricane_Rita_2D_final_run_without_waves': {'lat': 'lat', 'lon': 'lon'}, 'inundation_tropical_VIMS_SELFE_Hurricane_Rita_3D_final_run_without_waves': {'lat': 'x', 'lon': 'y'}, 'inundation_extratropical_VIMS_SELFE_2005_2D_preliminary_run_waves_only': {'lat': 'x', 'lon': 'y'}, 'inundation_extratropical_VIMS_SELFE_2010_2D_final_run_tide_only': {'lat': 'x', 'lon': 'y'}, 'inundation_tropical_UND_ADCIRC_Hurricane_Ike_2D_preliminary_run_1_spinup': {'lat': 'x', 'lon': 'y'}, 'inundation_extratropical_VIMS_SELFE_2005_2D_final_run_with_waves': {'lat': 'lat', 'lon': 'lon'}, 'inundation_tropical_UND_SLOSH_Hurricane_Ike_preliminary_run_1_egl3_without_tides': {'lat': 'lat', 'lon': 'lon'}, 'inundation_tropical_UND_ADCIRC_Hurricane_Rita_3D_final_run_with_waves': {'lat': 'x', 'lon': 'y'}, 'inundation_extratropical_UMASS_FVCOM_2007_3D_final_run_waves_only': {'lat': 'lat', 'lon': 'lon'}, 'inundation_tropical_UND_ADCIRC_Tides_only_3D_final_run': {'lat': 'x', 'lon': 'y'}, 'shelf_hypoxia_DAL_ROMS__2004_2009_climatology_obc_with_oxygen_hnd_soc_20layers': {'lat': 'lat_u', 'lon': 'lon_u'}, 'inundation_tropical_UND_ADCIRC_Hurricane_Ike_2D_preliminary_run_8_with_waves_and_levees': {'lat': 'x', 'lon': 'y'}, 'inundation_tropical_UND_ADCIRC_Hurricane_Ike_Timing_without_waves': {'lat': 'x', 'lon': 'y'}, 'shelf_hypoxia_TAMU_ROMS_2004_2009_iasnfs_obc_24h': {'lat': 'lat_u', 'lon': 'lon_u'}, 'inundation_tropical_UND_ADCIRC_Hurricane_Ike_2D_preliminary_run_2_spinup_without_advection_implicit_1s': {'lat': 'x', 'lon': 'y'}, 'inundation_tropical_UND_SLOSH_Hurricane_Ike_preliminary_run_6_egm3_with_SLOSH_winds_without_tides': {'lat': 'lat', 'lon': 'lon'}, 'inundation_tropical_UND_ADCIRC_Hurricane_Ike_2D_preliminary_run_6_without_waves_and_advection_implicit_1s': {'lat': 'x', 'lon': 'y'}, 'inundation_tropical_USF_FVCOM_Hurricane_Rita_3D_final_run_without_waves': {'lat': 'lat', 'lon': 'lon'}, 'inundation_tropical_USF_FVCOM_Hurricane_Rita_2D_final_run_with_waves': {'lat': 'lat', 'lon': 'lon'}, 'inundation_extratropical_UND_ADCIRC_2007_2D_final_run_without_waves': {'lat': 'x', 'lon': 'y'}, 'shelf_hypoxia_TAMU_ROMS_2004_2009_ngom_obc_24h': {'lat': 'lat_u', 'lon': 'lon_u'}, 'inundation_extratropical_UMASS_FVCOM_2007_3D_final_run_without_waves': {'lat': 'lat', 'lon': 'lon'}, 'inundation_extratropical_UMASS_FVCOM_2005_3D_final_run_with_waves': {'lat': 'lat', 'lon': 'lon'}, 'inundation_tropical_USF_FVCOM_Hurricane_Ike_2D_final_run_with_waves': {'lat': 'lat', 'lon': 'lon'}, 'inundation_extratropical_UND_ADCIRC_2007_2D_final_run_with_waves': {'lat': 'x', 'lon': 'y'}, 'inundation_extratropical_VIMS_SELFE_2005_2D_final_run_without_waves': {'lat': 'lat', 'lon': 'lon'}, 'inundation_tropical_USF_FVCOM_SWAN_Ike_final_run_without_Surge': {'lat': 'lat', 'lon': 'lon'}, 'inundation_tropical_UND_ADCIRC_Tides_only_2D_final_run': {'lat': 'x', 'lon': 'y'}, 'inundation_extratropical_UND_ADCIRC_2005_2D_final_run_without_waves': {'lat': 'x', 'lon': 'y'}, 'inundation_tropical_USF_FVCOM_Hurricane_Rita_2D_final_run_without_waves': {'lat': 'lat', 'lon': 'lon'}, 'inundation_tropical_VIMS_SELFE_Hurricane_Ike_3D_final_run_without_waves': {'lat': 'x', 'lon': 'y'}, 'estofs_atlantic': {'lat': 'x', 'lon': 'y'}, 'inundation_tropical_VIMS_SELFE_Hurricane_Ike_2D_final_run_with_waves': {'lat': 'lat', 'lon': 'lon'}, 'inundation_tropical_UND_ADCIRC_Tides_only_2D_preliminary_run_1_without_advection_implicit_1s': {'lat': 'x', 'lon': 'y'}, 'inundation_tropical_USF_FVCOM_Hurricane_Ike_2D_final_run_without_waves': {'lat': 'lat', 'lon': 'lon'}, 'inundation_tropical_VIMS_SELFE_Hurricane_Rita_2D_final_run_with_waves': {'lat': 'lat', 'lon': 'lon'}, 'inundation_extratropical_VIMS_SELFE_2007_2D_final_run_without_waves': {'lat': 'lat', 'lon': 'lon'}, 'inundation_tropical_UND_SLOSH_Hurricane_Ike_final_run_egl3': {'lat': 'lat', 'lon': 'lon'}, 'inundation_tropical_UND_ADCIRC_Hurricane_Ike_2D_preliminary_run_9_with_waves_and_levees_and_river_flow': {'lat': 'x', 'lon': 'y'}, 'inundation_tropical_UND_ADCIRC_Hurricane_Ike_2D_preliminary_run_3_spinup_with_levees': {'lat': 'x', 'lon': 'y'}, 'inundation_tropical_VIMS_SELFE_Hurricane_Rita_2D_final_run_waves_only': {'lat': 'x', 'lon': 'y'}, 'inundation_tropical_USF_FVCOM_Tides_only_2D_preliminary_run_2_varied_manning_minimum_manning_0_025': {'lat': 'lat', 'lon': 'lon'}, 'shelf_hypoxia_DAL_ROMS_2004_2009_ias_obc_with_oxygen_hnd_soc_30layers': {'lat': 'lat_u', 'lon': 'lon_u'}, 'inundation_tropical_VIMS_SELFE_Hurricane_Ike_2D_final_run_without_waves': {'lat': 'lat', 'lon': 'lon'}, 'inundation_tropical_UND_SLOSH_Hurricane_Ike_preliminary_run_2_egl3_with_SLOSH_winds': {'lat': 'lat', 'lon': 'lon'}, 'inundation_extratropical_VIMS_SELFE_2010_2D_preliminary_run_without_waves': {'lat': 'x', 'lon': 'y'}, 'shelf_hypoxia_DAL_ROMS_2004_2009_climatology_obc_with_oxygen_inst_rem_20layers': {'lat': 'lat_u', 'lon': 'lon_u'}, 'inundation_tropical_UND_ADCIRC_Hurricane_Rita_2D_preliminary_run_5_without_waves_and_advection_implicit_1s': {'lat': 'x', 'lon': 'y'}, 'inundation_extratropical_VIMS_SELFE_2007_2D_final_run_with_waves': {'lat': 'lat', 'lon': 'lon'}, 'inundation_extratropical_VIMS_SELFE_2005_2D_preliminary_run_with_waves': {'lat': 'x', 'lon': 'y'}}\n"
       ]
      }
     ],
     "prompt_number": 9
    },
    {
     "cell_type": "code",
     "collapsed": false,
     "input": [
      "spatial_extents = {}\n",
      "for i, (name, url) in enumerate(urls.iteritems()):\n",
      "    print ('\\rProcessing {0} of {1}'.format(i+1, len(urls))),\n",
      "    d = Dataset(url,'r')\n",
      "    if name in grid_coord_names:\n",
      "        lat = d.variables[grid_coord_names[name]['lat']][:]\n",
      "        lon = d.variables[grid_coord_names[name]['lon']][:]\n",
      "        spatial_extents[name] = [np.nanmin(lon), np.nanmin(lat), np.nanmax(lon), np.nanmax(lat)]\n",
      "    else:\n",
      "        spatial_extents[name] = []"
     ],
     "language": "python",
     "metadata": {},
     "outputs": [
      {
       "output_type": "stream",
       "stream": "stdout",
       "text": [
        " \r",
        "Processing 1 of 111 "
       ]
      },
      {
       "output_type": "stream",
       "stream": "stdout",
       "text": [
        "\r",
        "Processing 2 of 111 "
       ]
      },
      {
       "output_type": "stream",
       "stream": "stdout",
       "text": [
        "\r",
        "Processing 3 of 111 "
       ]
      },
      {
       "output_type": "stream",
       "stream": "stdout",
       "text": [
        "\r",
        "Processing 4 of 111 "
       ]
      },
      {
       "output_type": "stream",
       "stream": "stdout",
       "text": [
        "\r",
        "Processing 5 of 111 "
       ]
      },
      {
       "output_type": "stream",
       "stream": "stdout",
       "text": [
        "\r",
        "Processing 6 of 111 "
       ]
      },
      {
       "output_type": "stream",
       "stream": "stdout",
       "text": [
        "\r",
        "Processing 7 of 111 "
       ]
      },
      {
       "output_type": "stream",
       "stream": "stdout",
       "text": [
        "\r",
        "Processing 8 of 111 "
       ]
      },
      {
       "output_type": "stream",
       "stream": "stdout",
       "text": [
        "\r",
        "Processing 9 of 111 "
       ]
      },
      {
       "output_type": "stream",
       "stream": "stdout",
       "text": [
        "\r",
        "Processing 10 of 111 "
       ]
      },
      {
       "output_type": "stream",
       "stream": "stdout",
       "text": [
        "\r",
        "Processing 11 of 111 "
       ]
      },
      {
       "output_type": "stream",
       "stream": "stdout",
       "text": [
        "\r",
        "Processing 12 of 111 "
       ]
      },
      {
       "output_type": "stream",
       "stream": "stdout",
       "text": [
        "\r",
        "Processing 13 of 111 "
       ]
      },
      {
       "output_type": "stream",
       "stream": "stdout",
       "text": [
        "\r",
        "Processing 14 of 111 "
       ]
      },
      {
       "output_type": "stream",
       "stream": "stdout",
       "text": [
        "\r",
        "Processing 15 of 111 "
       ]
      },
      {
       "output_type": "stream",
       "stream": "stdout",
       "text": [
        "\r",
        "Processing 16 of 111 "
       ]
      },
      {
       "output_type": "stream",
       "stream": "stdout",
       "text": [
        "\r",
        "Processing 17 of 111 "
       ]
      },
      {
       "output_type": "stream",
       "stream": "stdout",
       "text": [
        "\r",
        "Processing 18 of 111 "
       ]
      },
      {
       "output_type": "stream",
       "stream": "stdout",
       "text": [
        "\r",
        "Processing 19 of 111 "
       ]
      },
      {
       "output_type": "stream",
       "stream": "stdout",
       "text": [
        "\r",
        "Processing 20 of 111 "
       ]
      },
      {
       "output_type": "stream",
       "stream": "stdout",
       "text": [
        "\r",
        "Processing 21 of 111 "
       ]
      },
      {
       "output_type": "stream",
       "stream": "stdout",
       "text": [
        "\r",
        "Processing 22 of 111 "
       ]
      },
      {
       "output_type": "stream",
       "stream": "stdout",
       "text": [
        "\r",
        "Processing 23 of 111 "
       ]
      },
      {
       "output_type": "stream",
       "stream": "stdout",
       "text": [
        "\r",
        "Processing 24 of 111 "
       ]
      },
      {
       "output_type": "stream",
       "stream": "stdout",
       "text": [
        "\r",
        "Processing 25 of 111 "
       ]
      },
      {
       "output_type": "stream",
       "stream": "stdout",
       "text": [
        "\r",
        "Processing 26 of 111 "
       ]
      },
      {
       "output_type": "stream",
       "stream": "stdout",
       "text": [
        "\r",
        "Processing 27 of 111 "
       ]
      },
      {
       "output_type": "stream",
       "stream": "stdout",
       "text": [
        "\r",
        "Processing 28 of 111 "
       ]
      },
      {
       "output_type": "stream",
       "stream": "stdout",
       "text": [
        "\r",
        "Processing 29 of 111 "
       ]
      },
      {
       "output_type": "stream",
       "stream": "stdout",
       "text": [
        "\r",
        "Processing 30 of 111 "
       ]
      },
      {
       "output_type": "stream",
       "stream": "stdout",
       "text": [
        "\r",
        "Processing 31 of 111 "
       ]
      },
      {
       "output_type": "stream",
       "stream": "stdout",
       "text": [
        "\r",
        "Processing 32 of 111 "
       ]
      },
      {
       "output_type": "stream",
       "stream": "stdout",
       "text": [
        "\r",
        "Processing 33 of 111 "
       ]
      },
      {
       "output_type": "stream",
       "stream": "stdout",
       "text": [
        "\r",
        "Processing 34 of 111 "
       ]
      },
      {
       "output_type": "stream",
       "stream": "stdout",
       "text": [
        "\r",
        "Processing 35 of 111 "
       ]
      },
      {
       "output_type": "stream",
       "stream": "stdout",
       "text": [
        "\r",
        "Processing 36 of 111 "
       ]
      },
      {
       "output_type": "stream",
       "stream": "stdout",
       "text": [
        "\r",
        "Processing 37 of 111 "
       ]
      },
      {
       "output_type": "stream",
       "stream": "stdout",
       "text": [
        "\r",
        "Processing 38 of 111 "
       ]
      },
      {
       "output_type": "stream",
       "stream": "stdout",
       "text": [
        "\r",
        "Processing 39 of 111 "
       ]
      },
      {
       "output_type": "stream",
       "stream": "stdout",
       "text": [
        "\r",
        "Processing 40 of 111 "
       ]
      },
      {
       "output_type": "stream",
       "stream": "stdout",
       "text": [
        "\r",
        "Processing 41 of 111 "
       ]
      },
      {
       "output_type": "stream",
       "stream": "stdout",
       "text": [
        "\r",
        "Processing 42 of 111 "
       ]
      },
      {
       "output_type": "stream",
       "stream": "stdout",
       "text": [
        "\r",
        "Processing 43 of 111 "
       ]
      },
      {
       "output_type": "stream",
       "stream": "stdout",
       "text": [
        "\r",
        "Processing 44 of 111 "
       ]
      },
      {
       "output_type": "stream",
       "stream": "stdout",
       "text": [
        "\r",
        "Processing 45 of 111 "
       ]
      },
      {
       "output_type": "stream",
       "stream": "stdout",
       "text": [
        "\r",
        "Processing 46 of 111 "
       ]
      },
      {
       "output_type": "stream",
       "stream": "stdout",
       "text": [
        "\r",
        "Processing 47 of 111 "
       ]
      },
      {
       "output_type": "stream",
       "stream": "stdout",
       "text": [
        "\r",
        "Processing 48 of 111 "
       ]
      },
      {
       "output_type": "stream",
       "stream": "stdout",
       "text": [
        "\r",
        "Processing 49 of 111 "
       ]
      },
      {
       "output_type": "stream",
       "stream": "stdout",
       "text": [
        "\r",
        "Processing 50 of 111 "
       ]
      },
      {
       "output_type": "stream",
       "stream": "stdout",
       "text": [
        "\r",
        "Processing 51 of 111 "
       ]
      },
      {
       "output_type": "stream",
       "stream": "stdout",
       "text": [
        "\r",
        "Processing 52 of 111 "
       ]
      },
      {
       "output_type": "stream",
       "stream": "stdout",
       "text": [
        "\r",
        "Processing 53 of 111 "
       ]
      },
      {
       "output_type": "stream",
       "stream": "stdout",
       "text": [
        "\r",
        "Processing 54 of 111 "
       ]
      },
      {
       "output_type": "stream",
       "stream": "stdout",
       "text": [
        "\r",
        "Processing 55 of 111 "
       ]
      },
      {
       "output_type": "stream",
       "stream": "stdout",
       "text": [
        "\r",
        "Processing 56 of 111 "
       ]
      },
      {
       "output_type": "stream",
       "stream": "stdout",
       "text": [
        "\r",
        "Processing 57 of 111 "
       ]
      },
      {
       "output_type": "stream",
       "stream": "stdout",
       "text": [
        "\r",
        "Processing 58 of 111 "
       ]
      },
      {
       "output_type": "stream",
       "stream": "stdout",
       "text": [
        "\r",
        "Processing 59 of 111 "
       ]
      },
      {
       "output_type": "stream",
       "stream": "stdout",
       "text": [
        "\r",
        "Processing 60 of 111 "
       ]
      },
      {
       "output_type": "stream",
       "stream": "stdout",
       "text": [
        "\r",
        "Processing 61 of 111 "
       ]
      },
      {
       "output_type": "stream",
       "stream": "stdout",
       "text": [
        "\r",
        "Processing 62 of 111 "
       ]
      },
      {
       "output_type": "stream",
       "stream": "stdout",
       "text": [
        "\r",
        "Processing 63 of 111 "
       ]
      },
      {
       "output_type": "stream",
       "stream": "stdout",
       "text": [
        "\r",
        "Processing 64 of 111 "
       ]
      },
      {
       "output_type": "stream",
       "stream": "stdout",
       "text": [
        "\r",
        "Processing 65 of 111 "
       ]
      },
      {
       "output_type": "stream",
       "stream": "stdout",
       "text": [
        "\r",
        "Processing 66 of 111 "
       ]
      },
      {
       "output_type": "stream",
       "stream": "stdout",
       "text": [
        "\r",
        "Processing 67 of 111 "
       ]
      },
      {
       "output_type": "stream",
       "stream": "stdout",
       "text": [
        "\r",
        "Processing 68 of 111 "
       ]
      },
      {
       "output_type": "stream",
       "stream": "stdout",
       "text": [
        "\r",
        "Processing 69 of 111 "
       ]
      },
      {
       "output_type": "stream",
       "stream": "stdout",
       "text": [
        "\r",
        "Processing 70 of 111 "
       ]
      },
      {
       "output_type": "stream",
       "stream": "stdout",
       "text": [
        "\r",
        "Processing 71 of 111 "
       ]
      },
      {
       "output_type": "stream",
       "stream": "stdout",
       "text": [
        "\r",
        "Processing 72 of 111 "
       ]
      },
      {
       "output_type": "stream",
       "stream": "stdout",
       "text": [
        "\r",
        "Processing 73 of 111 "
       ]
      },
      {
       "output_type": "stream",
       "stream": "stdout",
       "text": [
        "\r",
        "Processing 74 of 111 "
       ]
      },
      {
       "output_type": "stream",
       "stream": "stdout",
       "text": [
        "\r",
        "Processing 75 of 111 "
       ]
      },
      {
       "output_type": "stream",
       "stream": "stdout",
       "text": [
        "\r",
        "Processing 76 of 111 "
       ]
      },
      {
       "output_type": "stream",
       "stream": "stdout",
       "text": [
        "\r",
        "Processing 77 of 111 "
       ]
      },
      {
       "output_type": "stream",
       "stream": "stdout",
       "text": [
        "\r",
        "Processing 78 of 111 "
       ]
      },
      {
       "output_type": "stream",
       "stream": "stdout",
       "text": [
        "\r",
        "Processing 79 of 111 "
       ]
      },
      {
       "output_type": "stream",
       "stream": "stdout",
       "text": [
        "\r",
        "Processing 80 of 111 "
       ]
      },
      {
       "output_type": "stream",
       "stream": "stdout",
       "text": [
        "\r",
        "Processing 81 of 111 "
       ]
      },
      {
       "output_type": "stream",
       "stream": "stdout",
       "text": [
        "\r",
        "Processing 82 of 111 "
       ]
      },
      {
       "output_type": "stream",
       "stream": "stdout",
       "text": [
        "\r",
        "Processing 83 of 111 "
       ]
      },
      {
       "output_type": "stream",
       "stream": "stdout",
       "text": [
        "\r",
        "Processing 84 of 111 "
       ]
      },
      {
       "output_type": "stream",
       "stream": "stdout",
       "text": [
        "\r",
        "Processing 85 of 111 "
       ]
      },
      {
       "output_type": "stream",
       "stream": "stdout",
       "text": [
        "\r",
        "Processing 86 of 111 "
       ]
      },
      {
       "output_type": "stream",
       "stream": "stdout",
       "text": [
        "\r",
        "Processing 87 of 111 "
       ]
      },
      {
       "output_type": "stream",
       "stream": "stdout",
       "text": [
        "\r",
        "Processing 88 of 111 "
       ]
      },
      {
       "output_type": "stream",
       "stream": "stdout",
       "text": [
        "\r",
        "Processing 89 of 111 "
       ]
      },
      {
       "output_type": "stream",
       "stream": "stdout",
       "text": [
        "\r",
        "Processing 90 of 111 "
       ]
      },
      {
       "output_type": "stream",
       "stream": "stdout",
       "text": [
        "\r",
        "Processing 91 of 111 "
       ]
      },
      {
       "output_type": "stream",
       "stream": "stdout",
       "text": [
        "\r",
        "Processing 92 of 111 "
       ]
      },
      {
       "output_type": "stream",
       "stream": "stdout",
       "text": [
        "\r",
        "Processing 93 of 111 "
       ]
      },
      {
       "output_type": "stream",
       "stream": "stdout",
       "text": [
        "\r",
        "Processing 94 of 111 "
       ]
      },
      {
       "output_type": "stream",
       "stream": "stdout",
       "text": [
        "\r",
        "Processing 95 of 111 "
       ]
      },
      {
       "output_type": "stream",
       "stream": "stdout",
       "text": [
        "\r",
        "Processing 96 of 111 "
       ]
      },
      {
       "output_type": "stream",
       "stream": "stdout",
       "text": [
        "\r",
        "Processing 97 of 111 "
       ]
      },
      {
       "output_type": "stream",
       "stream": "stdout",
       "text": [
        "\r",
        "Processing 98 of 111 "
       ]
      },
      {
       "output_type": "stream",
       "stream": "stdout",
       "text": [
        "\r",
        "Processing 99 of 111 "
       ]
      },
      {
       "output_type": "stream",
       "stream": "stdout",
       "text": [
        "\r",
        "Processing 100 of 111 "
       ]
      },
      {
       "output_type": "stream",
       "stream": "stdout",
       "text": [
        "\r",
        "Processing 101 of 111 "
       ]
      },
      {
       "output_type": "stream",
       "stream": "stdout",
       "text": [
        "\r",
        "Processing 102 of 111 "
       ]
      },
      {
       "output_type": "stream",
       "stream": "stdout",
       "text": [
        "\r",
        "Processing 103 of 111 "
       ]
      },
      {
       "output_type": "stream",
       "stream": "stdout",
       "text": [
        "\r",
        "Processing 104 of 111 "
       ]
      },
      {
       "output_type": "stream",
       "stream": "stdout",
       "text": [
        "\r",
        "Processing 105 of 111 "
       ]
      },
      {
       "output_type": "stream",
       "stream": "stdout",
       "text": [
        "\r",
        "Processing 106 of 111 "
       ]
      },
      {
       "output_type": "stream",
       "stream": "stdout",
       "text": [
        "\r",
        "Processing 107 of 111 "
       ]
      },
      {
       "output_type": "stream",
       "stream": "stdout",
       "text": [
        "\r",
        "Processing 108 of 111 "
       ]
      },
      {
       "output_type": "stream",
       "stream": "stdout",
       "text": [
        "\r",
        "Processing 109 of 111 "
       ]
      },
      {
       "output_type": "stream",
       "stream": "stdout",
       "text": [
        "\r",
        "Processing 110 of 111 "
       ]
      },
      {
       "output_type": "stream",
       "stream": "stdout",
       "text": [
        "\r",
        "Processing 111 of 111\n"
       ]
      }
     ],
     "prompt_number": 47
    },
    {
     "cell_type": "code",
     "collapsed": false,
     "input": [
      "print spatial_extents"
     ],
     "language": "python",
     "metadata": {},
     "outputs": [
      {
       "output_type": "stream",
       "stream": "stdout",
       "text": [
        "{'inundation_tropical_MDL_SLOSH_Hurricane_Rita_final_run_egm3': [-99.393103142489934, 21.179049772500615, -79.710226778267227, 31.223732493107558], 'inundation_tropical_UND_ADCIRC_Hurricane_Ike_3D_final_run_without_waves': [18.151389000000002, -97.856888999999995, 31.010635000000004, -79.739305000000002], 'inundation_tropical_USF_FVCOM_Tides_only_2D_final_run': [262.14313, 18.151388, 280.26135, 31.010635], 'inundation_tropical_UND_SLOSH_Hurricane_Ike_final_run_egm3': [-99.414948, 21.161041, -79.687126, 31.23554], 'shelf_hypoxia_NOAA_NGOM_2005_2011_NGOM': [-98.162003, 17.990999, -78.042, 30.733999], 'shelf_hypoxia_TAMU_ROMS_2004_2009_hycom_obc_24h': [-94.589429659829193, 27.407557872765342, -87.793289714208498, 30.330248844461227], 'inundation_tropical_VIMS_SELFE_Hurricane_Ike_2D_final_run_wave_only': [7.9110999, -97.856903, 45.838799, -60.040001], 'inundation_tropical_UND_ADCIRC_Hurricane_Ike_2D_preliminary_run_4_spinup_with_levees_and_river_flow': [18.151389000000002, -97.856888999999995, 31.010635000000004, -79.739305000000002], 'shelf_hypoxia_DAL_ROMS_2004_2009_hycom_obc_with_oxygen_hnd_soc_30layers': [-94.589429659829193, 27.407557872765342, -87.793289714208498, 30.330248844461227], 'inundation_tropical_UND_ADCIRC_Hurricane_Rita_2D_final_run_without_waves': [18.151389000000002, -97.856888999999995, 31.010635000000004, -79.739305000000002], 'shelf_hypoxia_DAL_ROMS_2004_2009_ias_obc_with_oxygen_inst_rem_30layers': [-94.589429659829193, 27.407557872765342, -87.793289714208498, 30.330248844461227], 'inundation_tropical_UND_ADCIRC_Hurricane_Rita_2D_preliminary_run_1_spinup': [18.151389000000002, -97.856888999999995, 31.010635000000004, -79.739305000000002], 'inundation_tropical_USF_FVCOM_Hurricane_Ike_3D_final_run_with_waves': [-97.856873, 18.151388, -79.738647, 31.010635], 'inundation_tropical_UND_ADCIRC_Hurricane_Ike_2D_final_run_without_waves': [18.151389000000002, -97.856888999999995, 31.010635000000004, -79.739305000000002], 'inundation_tropical_UND_SLOSH_Hurricane_Ike_preliminary_run_5_egm3_with_SLOSH_winds': [-99.414948, 21.161041, -79.687126, 31.23554], 'inundation_tropical_VIMS_SELFE_Hurricane_Ike_3D_final_run_with_waves': [7.9110999, -97.856903, 45.838799, -60.040001], 'inundation_tropical_UND_ADCIRC_Hurricane_Ike_3D_final_run_with_waves': [18.151389000000002, -97.856888999999995, 31.010635000000004, -79.739305000000002], 'inundation_extratropical_UND_ADCIRC_2005_2D_final_run_with_waves': [42.172423999999999, -70.758232000000007, 42.236313000000003, -70.674530000000004], 'inundation_tropical_UND_SLOSH_Hurricane_Rita_preliminary_run_5_egm3_with_SLOSH_winds': [-99.414948, 21.161041, -79.687126, 31.23554], 'inundation_tropical_UND_SLOSH_Hurricane_Rita_preliminary_run_6_egm3_with_SLOSH_winds_without_tides': [-99.414948, 21.161041, -79.687126, 31.23554], 'inundation_extratropical_UND_ADCIRC_2005_2D_final_run_wave_model_only_without_circulation': [42.172423999999999, -70.758232000000007, 42.236313000000003, -70.674530000000004], 'inundation_tropical_UND_ADCIRC_Hurricane_Rita_3D_final_run_without_waves': [18.151389000000002, -97.856888999999995, 31.010635000000004, -79.739305000000002], 'inundation_extratropical_VIMS_SELFE_2005_2D_final_run_waves_only': [-70.758232000000007, 42.172423999999999, -70.674530000000004, 42.236313000000003], 'inundation_tropical_UND_ADCIRC_Hurricane_Ike_2D_preliminary_run_5_tides_only': [18.151389000000002, -97.856888999999995, 31.010635000000004, -79.739305000000002], 'inundation_tropical_MDL_SLOSH_Hurricane_Ike_final_run_egm3': [-99.393103142489934, 21.179049772500615, -79.710226778267227, 31.223732493107558], 'inundation_extratropical_VIMS_SELFE_2005_2D_preliminary_run_without_waves': [-73263.602, 851161.81, -66177.0, 858050.0], 'inundation_extratropical_VIMS_SELFE_2007_2D_preliminary_run_without_waves': [-73263.602, 851161.81, -66177.0, 858050.0], 'inundation_tropical_UND_SLOSH_Hurricane_Rita_final_run_egm3': [-99.414948, 21.161041, -79.687126, 31.23554], 'estuarine_hypoxia_VIMS_CBOFS_2004_2005': [-81.158129999999801, 36.190357499999998, -74.23746500000027, 39.611817500000001], 'inundation_tropical_UND_SLOSH_Hurricane_Rita_final_run_ebp3': [-95.503349, 28.31065, -91.254379, 30.523108], 'inundation_tropical_UND_ADCIRC_Hurricane_Rita_3D_preliminary_run_1_spinup': [18.151389000000002, -97.856888999999995, 31.010635000000004, -79.739305000000002], 'inundation_tropical_USF_FVCOM_Tides_only_2D_preliminary_run_1_fixed_manning': [262.14313, 18.151388, 280.26135, 31.010635], 'inundation_tropical_USF_FVCOM_Hurricane_Ike_3D_final_run_without_waves': [-97.856873, 18.151388, -79.738647, 31.010635], 'inundation_tropical_UND_SLOSH_Hurricane_Ike_preliminary_run_3_egl3_with_SLOSH_winds_without_tides': [-96.439346, 28.105371, -92.87001, 30.227364], 'shelf_hypoxia_DAL_ROMS_2004_2009_hycom_obc_with_oxygen_inst_rem_30layers': [-94.589429659829193, 27.407557872765342, -87.793289714208498, 30.330248844461227], 'inundation_tropical_UND_ADCIRC_Hurricane_Rita_2D_preliminary_run_4_with_waves_without_advection_implicit_1s': [18.151389000000002, -97.856888999999995, 31.010635000000004, -79.739305000000002], 'inundation_tropical_UND_ADCIRC_Hurricane_Rita_2D_final_run_with_waves': [18.151389000000002, -97.856888999999995, 31.010635000000004, -79.739305000000002], 'inundation_tropical_UND_ADCIRC_Hurricane_Ike_3D_preliminary_run_1_spinup': [18.151389000000002, -97.856888999999995, 31.010635000000004, -79.739305000000002], 'inundation_extratropical_UMASS_FVCOM_2005_3D_final_run_waves_only': [-70.758232, 42.172424, -70.67453, 42.236313], 'inundation_tropical_USF_FVCOM_SWAN_Ike_final_run_with_2DSurge': [-97.856873, 18.151388, -79.738647, 31.010635], 'inundation_extratropical_UMASS_FVCOM_2007_3D_final_run_with_waves': [-70.758232, 42.172424, -70.67453, 42.236313], 'inundation_tropical_USF_FVCOM_SWAN_Rita_final_run_with_2DSurge': [-97.856873, 18.151388, -79.738647, 31.010635], 'inundation_extratropical_VIMS_SELFE_2007_2D_preliminary_run_with_waves': [-73263.602, 851161.81, -66177.0, 858050.0], 'estuarine_hypoxia_VIMS_EFDC_2004_DO3d': [-77.318726, 36.354858, -74.90712, 9.96921e+36], 'inundation_tropical_UND_ADCIRC_Hurricane_Ike_2D_final_run_with_waves': [18.151389000000002, -97.856888999999995, 31.010635000000004, -79.739305000000002], 'inundation_tropical_UND_ADCIRC_Hurricane_Rita_2D_preliminary_run_3_tides_only': [18.151389000000002, -97.856888999999995, 31.010635000000004, -79.739305000000002], 'inundation_tropical_UND_ADCIRC_Hurricane_Ike_Timing_with_waves': [18.151389000000002, -97.856888999999995, 31.010635000000004, -79.739305000000002], 'inundation_extratropical_VIMS_SELFE_2007_2D_preliminary_run_waves_only': [-73263.602, 851161.81, -66177.0, 858050.0], 'inundation_tropical_UND_SLOSH_Hurricane_Rita_preliminary_run_1_ebp3_without_tides': [-95.503349, 28.31065, -91.254379, 30.523108], 'inundation_tropical_UND_SLOSH_Hurricane_Rita_preliminary_run_4_egm3_without_tides': [-99.414948, 21.161041, -79.687126, 31.23554], 'inundation_tropical_VIMS_SELFE_Hurricane_Rita_3D_final_run_with_waves': [7.9110999, -97.856903, 45.838799, -60.040001], 'inundation_tropical_UND_ADCIRC_Hurricane_Ike_2D_preliminary_run_7_with_waves_without_advection_implicit_1s': [18.151389000000002, -97.856888999999995, 31.010635000000004, -79.739305000000002], 'inundation_extratropical_UND_ADCIRC_2007_2D_final_run_wave_model_only_without_circulation': [42.172423999999999, -70.758232000000007, 42.236313000000003, -70.674530000000004], 'inundation_tropical_UND_ADCIRC_Hurricane_Rita_2D_preliminary_run_2_spinup_without_advection_implicit_1s': [18.151389000000002, -97.856888999999995, 31.010635000000004, -79.739305000000002], 'inundation_tropical_UND_SLOSH_Hurricane_Ike_preliminary_run_4_egm3_without_tides': [-99.414948, 21.161041, -79.687126, 31.23554], 'inundation_tropical_USF_FVCOM_Hurricane_Rita_3D_final_run_with_waves': [-97.856873, 18.151388, -79.738647, 31.010635], 'inundation_extratropical_VIMS_SELFE_2007_2D_final_run_waves_only': [-70.758232000000007, 42.172423999999999, -70.674530000000004, 42.236313000000003], 'inundation_tropical_UND_SLOSH_Hurricane_Rita_preliminary_run_3_ebp3_with_SLOSH_winds_without_tides': [-95.503349, 28.31065, -91.254379, 30.523108], 'inundation_tropical_UND_SLOSH_Hurricane_Rita_preliminary_run_2_ebp3_with_SLOSH_winds': [-95.503349, 28.31065, -91.254379, 30.523108], 'inundation_tropical_USF_FVCOM_SWAN_Rita_final_run_without_Surge': [-97.856873, 18.151388, -79.738647, 31.010635], 'inundation_extratropical_UND_ADCIRC_2010_2D_final_run_tides_only': [42.172423999999999, -70.758232000000007, 42.236313000000003, -70.674530000000004], 'inundation_tropical_VIMS_SELFE_Hurricane_Rita_2D_final_run_without_waves': [-97.856903, 7.9110999, -60.040001, 45.838799], 'inundation_tropical_VIMS_SELFE_Hurricane_Rita_3D_final_run_without_waves': [7.9110999, -97.856903, 45.838799, -60.040001], 'inundation_extratropical_VIMS_SELFE_2005_2D_preliminary_run_waves_only': [-73263.602, 851161.81, -66177.0, 858050.0], 'inundation_extratropical_VIMS_SELFE_2010_2D_final_run_tide_only': [-73263.602, 851161.81, -66177.0, 858050.0], 'inundation_tropical_UND_ADCIRC_Hurricane_Ike_2D_preliminary_run_1_spinup': [18.151389000000002, -97.856888999999995, 31.010635000000004, -79.739305000000002], 'inundation_extratropical_VIMS_SELFE_2005_2D_final_run_with_waves': [-70.758232000000007, 42.172423999999999, -70.674530000000004, 42.236313000000003], 'inundation_tropical_UND_SLOSH_Hurricane_Ike_preliminary_run_1_egl3_without_tides': [-96.439346, 28.105371, -92.87001, 30.227364], 'inundation_tropical_UND_ADCIRC_Hurricane_Rita_3D_final_run_with_waves': [18.151389000000002, -97.856888999999995, 31.010635000000004, -79.739305000000002], 'inundation_extratropical_UMASS_FVCOM_2007_3D_final_run_waves_only': [-70.758232, 42.172424, -70.67453, 42.236313], 'inundation_tropical_UND_ADCIRC_Tides_only_3D_final_run': [18.151389000000002, -97.856888999999995, 31.010635000000004, -79.739305000000002], 'shelf_hypoxia_DAL_ROMS__2004_2009_climatology_obc_with_oxygen_hnd_soc_20layers': [-94.589429659829193, 27.407557872765342, -87.793289714208498, 30.330248844461227], 'inundation_tropical_UND_ADCIRC_Hurricane_Ike_2D_preliminary_run_8_with_waves_and_levees': [18.151389000000002, -97.856888999999995, 31.010635000000004, -79.739305000000002], 'inundation_tropical_UND_ADCIRC_Hurricane_Ike_Timing_without_waves': [18.151389000000002, -97.856888999999995, 31.010635000000004, -79.739305000000002], 'shelf_hypoxia_TAMU_ROMS_2004_2009_iasnfs_obc_24h': [-94.589429659829193, 27.407557872765342, -87.793289714208498, 30.330248844461227], 'inundation_tropical_UND_ADCIRC_Hurricane_Ike_2D_preliminary_run_2_spinup_without_advection_implicit_1s': [18.151389000000002, -97.856888999999995, 31.010635000000004, -79.739305000000002], 'inundation_tropical_UND_SLOSH_Hurricane_Ike_preliminary_run_6_egm3_with_SLOSH_winds_without_tides': [-99.414948, 21.161041, -79.687126, 31.23554], 'inundation_tropical_UND_ADCIRC_Hurricane_Ike_2D_preliminary_run_6_without_waves_and_advection_implicit_1s': [18.151389000000002, -97.856888999999995, 31.010635000000004, -79.739305000000002], 'inundation_tropical_USF_FVCOM_Hurricane_Rita_3D_final_run_without_waves': [-97.856873, 18.151388, -79.738647, 31.010635], 'inundation_tropical_USF_FVCOM_Hurricane_Rita_2D_final_run_with_waves': [-97.856873, 18.151388, -79.738647, 31.010635], 'inundation_extratropical_UND_ADCIRC_2007_2D_final_run_without_waves': [42.172423999999999, -70.758232000000007, 42.236313000000003, -70.674530000000004], 'shelf_hypoxia_TAMU_ROMS_2004_2009_ngom_obc_24h': [-94.589429659829193, 27.407557872765342, -87.793289714208498, 30.330248844461227], 'inundation_extratropical_UMASS_FVCOM_2007_3D_final_run_without_waves': [-70.758232, 42.172424, -70.67453, 42.236313], 'inundation_extratropical_UMASS_FVCOM_2005_3D_final_run_with_waves': [-70.758232, 42.172424, -70.67453, 42.236313], 'inundation_tropical_USF_FVCOM_Hurricane_Ike_2D_final_run_with_waves': [-97.856873, 18.151388, -79.738647, 31.010635], 'inundation_extratropical_UND_ADCIRC_2007_2D_final_run_with_waves': [42.172423999999999, -70.758232000000007, 42.236313000000003, -70.674530000000004], 'inundation_extratropical_VIMS_SELFE_2005_2D_final_run_without_waves': [-70.758232000000007, 42.172423999999999, -70.674530000000004, 42.236313000000003], 'inundation_tropical_USF_FVCOM_SWAN_Ike_final_run_without_Surge': [-97.856873, 18.151388, -79.738647, 31.010635], 'inundation_tropical_UND_ADCIRC_Tides_only_2D_final_run': [18.151389000000002, -97.856888999999995, 31.010635000000004, -79.739305000000002], 'inundation_extratropical_UND_ADCIRC_2005_2D_final_run_without_waves': [42.172423999999999, -70.758232000000007, 42.236313000000003, -70.674530000000004], 'inundation_tropical_USF_FVCOM_Hurricane_Rita_2D_final_run_without_waves': [-97.856888, 18.151388, -79.738663, 31.010635], 'inundation_tropical_VIMS_SELFE_Hurricane_Ike_3D_final_run_without_waves': [7.9110999, -97.856903, 45.838799, -60.040001], 'estofs_atlantic': [7.9111029999999998, -97.856888999999995, 45.838805999999998, -60.040000000000006], 'inundation_tropical_VIMS_SELFE_Hurricane_Ike_2D_final_run_with_waves': [-97.856903, 7.9110999, -60.040001, 45.838799], 'inundation_tropical_UND_ADCIRC_Tides_only_2D_preliminary_run_1_without_advection_implicit_1s': [18.151389000000002, -97.856888999999995, 31.010635000000004, -79.739305000000002], 'inundation_tropical_USF_FVCOM_Hurricane_Ike_2D_final_run_without_waves': [-97.856888, 18.151388, -79.738663, 31.010635], 'inundation_tropical_VIMS_SELFE_Hurricane_Rita_2D_final_run_with_waves': [-97.856903, 7.9110999, -60.040001, 45.838799], 'inundation_extratropical_VIMS_SELFE_2007_2D_final_run_without_waves': [-70.758232000000007, 42.172423999999999, -70.674530000000004, 42.236313000000003], 'inundation_tropical_UND_SLOSH_Hurricane_Ike_final_run_egl3': [-96.439346, 28.105371, -92.87001, 30.227364], 'inundation_tropical_UND_ADCIRC_Hurricane_Ike_2D_preliminary_run_9_with_waves_and_levees_and_river_flow': [18.151389000000002, -97.856888999999995, 31.010635000000004, -79.739305000000002], 'inundation_tropical_UND_ADCIRC_Hurricane_Ike_2D_preliminary_run_3_spinup_with_levees': [18.151389000000002, -97.856888999999995, 31.010635000000004, -79.739305000000002], 'inundation_tropical_VIMS_SELFE_Hurricane_Rita_2D_final_run_waves_only': [7.9110999, -97.856903, 45.838799, -60.040001], 'inundation_tropical_USF_FVCOM_Tides_only_2D_preliminary_run_2_varied_manning_minimum_manning_0_025': [262.14313, 18.151388, 280.26135, 31.010635], 'shelf_hypoxia_DAL_ROMS_2004_2009_ias_obc_with_oxygen_hnd_soc_30layers': [-94.589429659829193, 27.407557872765342, -87.793289714208498, 30.330248844461227], 'inundation_tropical_VIMS_SELFE_Hurricane_Ike_2D_final_run_without_waves': [-97.856903, 7.9110999, -60.040001, 45.838799], 'inundation_tropical_UND_SLOSH_Hurricane_Ike_preliminary_run_2_egl3_with_SLOSH_winds': [-96.439346, 28.105371, -92.87001, 30.227364], 'inundation_extratropical_VIMS_SELFE_2010_2D_preliminary_run_without_waves': [-73263.602, 851161.81, -66177.0, 858050.0], 'shelf_hypoxia_DAL_ROMS_2004_2009_climatology_obc_with_oxygen_inst_rem_20layers': [-94.589429659829193, 27.407557872765342, -87.793289714208498, 30.330248844461227], 'inundation_tropical_UND_ADCIRC_Hurricane_Rita_2D_preliminary_run_5_without_waves_and_advection_implicit_1s': [18.151389000000002, -97.856888999999995, 31.010635000000004, -79.739305000000002], 'inundation_extratropical_VIMS_SELFE_2007_2D_final_run_with_waves': [-70.758232000000007, 42.172423999999999, -70.674530000000004, 42.236313000000003], 'inundation_extratropical_VIMS_SELFE_2005_2D_preliminary_run_with_waves': [-73263.602, 851161.81, -66177.0, 858050.0]}\n"
       ]
      }
     ],
     "prompt_number": 48
    },
    {
     "cell_type": "code",
     "collapsed": false,
     "input": [
      "for k, v in grid_coord_names.iteritems():\n",
      "    if len(v) < 2:\n",
      "        print k"
     ],
     "language": "python",
     "metadata": {},
     "outputs": [],
     "prompt_number": 39
    },
    {
     "cell_type": "code",
     "collapsed": false,
     "input": [],
     "language": "python",
     "metadata": {},
     "outputs": []
    }
   ],
   "metadata": {}
  }
 ]
}
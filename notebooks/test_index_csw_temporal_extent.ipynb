{
 "metadata": {
  "name": "",
  "signature": "sha256:137095fda2ad43f981f29f9e2c8b90d5615be2f924784a1985da918174843251"
 },
 "nbformat": 3,
 "nbformat_minor": 0,
 "worksheets": [
  {
   "cells": [
    {
     "cell_type": "code",
     "collapsed": false,
     "input": [
      "import sys\n",
      "sys.path.insert(1,\"/home/bmayer_local/code/sciwms-testbed\")\n",
      "\n",
      "import sciwms\n",
      "print sciwms.__file__"
     ],
     "language": "python",
     "metadata": {},
     "outputs": [
      {
       "output_type": "stream",
       "stream": "stdout",
       "text": [
        "/home/bmayer_local/code/sci-wms/sciwms/__init__.pyc\n"
       ]
      }
     ],
     "prompt_number": 16
    },
    {
     "cell_type": "code",
     "collapsed": false,
     "input": [],
     "language": "python",
     "metadata": {},
     "outputs": []
    }
   ],
   "metadata": {}
  }
 ]
}
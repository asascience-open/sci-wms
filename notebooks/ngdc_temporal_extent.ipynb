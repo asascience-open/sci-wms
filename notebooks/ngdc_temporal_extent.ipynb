{
 "metadata": {
  "name": "",
  "signature": "sha256:cf85e18ef093c654a21b023cc63c4270c22c22e7c27fbcd02c83d8362dbe898d"
 },
 "nbformat": 3,
 "nbformat_minor": 0,
 "worksheets": [
  {
   "cells": [
    {
     "cell_type": "code",
     "collapsed": false,
     "input": [
      "from owslib import fes, csw\n",
      "from netCDF4 import Dataset, num2date, date2num\n",
      "\n",
      "import numpy as np\n",
      "\n",
      "\n",
      "import json\n",
      "import sys\n",
      "import traceback\n",
      "import re"
     ],
     "language": "python",
     "metadata": {},
     "outputs": [
      {
       "output_type": "stream",
       "stream": "stdout",
       "text": [
        "\n"
       ]
      }
     ],
     "prompt_number": 69
    },
    {
     "cell_type": "code",
     "collapsed": false,
     "input": [
      "endpoint = \"http://www.ngdc.noaa.gov/geoportal/csw\"\n",
      "uuid = '8BF00750-66C7-49FF-8894-4D4F96FD86C0'\n",
      "uuid_filter = fes.PropertyIsEqualTo(propertyname='sys.siteuuid', literal=\"{{{0}}}\".format(uuid))\n",
      "timeout = 120\n",
      "csw_catalogue = csw.CatalogueServiceWeb(endpoint, timeout=timeout)\n",
      "csw_catalogue.getrecords2([uuid_filter], esn='full', maxrecords=999999)"
     ],
     "language": "python",
     "metadata": {},
     "outputs": [],
     "prompt_number": 2
    },
    {
     "cell_type": "code",
     "collapsed": false,
     "input": [
      "urls = {}\n",
      "for name, record in csw_catalogue.records.iteritems():\n",
      "    legal_name = re.sub('[ .!,;\\-/\\\\\\\\]','_', name)\n",
      "    for ref in record.references:\n",
      "        if 'odp' in ref.get('scheme').split(\":\"):\n",
      "            urls[legal_name] = ref['url']"
     ],
     "language": "python",
     "metadata": {},
     "outputs": [],
     "prompt_number": 4
    },
    {
     "cell_type": "code",
     "collapsed": false,
     "input": [
      "def get_temporal_extent(ncdataset):\n",
      "    temporal_extent = []\n",
      "    \n",
      "    timeobj = ncdataset.variables.get('time')\n",
      "    if timeobj:\n",
      "        tkwargs = {}\n",
      "        if hasattr(timeobj, 'units'):\n",
      "            tkwargs['units'] = timeobj.units\n",
      "        if hasattr(timeobj, 'calendar'):\n",
      "            tkwargs['calendar'] = timeobj.calendar.lower()\n",
      "            \n",
      "        times = timeobj[:]\n",
      "#         print times\n",
      "        tmin = np.nanmin(times)\n",
      "        tmax = np.nanmax(times)\n",
      "        dates = []\n",
      "        for t in times:\n",
      "            try:\n",
      "                date = num2date(t, **tkwargs)\n",
      "                dates.append(date)\n",
      "            except:        \n",
      "                pass\n",
      "                #Some dadtasets have extraneous values or will fail the num2date conversion\n",
      "                #only keep around valid times\n",
      "#                 exc_type, exc_value, exc_traceback = sys.exc_info()\n",
      "#                 print(\"Disabling Error: \" +  repr(traceback.format_exception(exc_type, exc_value, exc_traceback)))\n",
      "        \n",
      "        if len(dates) >= 2:\n",
      "            temporal_extent = [dates[0], dates[-1]]\n",
      "    return temporal_extent"
     ],
     "language": "python",
     "metadata": {},
     "outputs": [],
     "prompt_number": 75
    },
    {
     "cell_type": "code",
     "collapsed": false,
     "input": [
      "missing_time = []\n",
      "temporal_extent = {}\n",
      "for i, (name, url) in enumerate(urls.iteritems()):\n",
      "# N = 1\n",
      "# for i, (name, url) in enumerate(zip(urls.keys()[:N],urls.values()[:N])):\n",
      "    print ('\\rProcessing {0} ({1} of {2})'.format(name, i+1, len(urls))),\n",
      "    temporal_extent[name] = []\n",
      "    d = Dataset(url,'r')\n",
      "    if not 'time' in d.variables:\n",
      "        missing_time.append(name)\n",
      "    else:\n",
      "        temporal_extent[name] = get_temporal_extent(d)"
     ],
     "language": "python",
     "metadata": {},
     "outputs": [
      {
       "output_type": "stream",
       "stream": "stdout",
       "text": [
        "\r",
        "Processing inundation_tropical_MDL_SLOSH_Hurricane_Rita_final_run_egm3 (1 of 111) "
       ]
      },
      {
       "output_type": "stream",
       "stream": "stdout",
       "text": [
        "\r",
        "Processing inundation_tropical_UND_ADCIRC_Hurricane_Ike_3D_final_run_without_waves (2 of 111) "
       ]
      },
      {
       "output_type": "stream",
       "stream": "stdout",
       "text": [
        "\r",
        "Processing inundation_tropical_USF_FVCOM_Tides_only_2D_final_run (3 of 111) "
       ]
      },
      {
       "output_type": "stream",
       "stream": "stdout",
       "text": [
        "\r",
        "Processing inundation_tropical_UND_SLOSH_Hurricane_Ike_final_run_egm3 (4 of 111) "
       ]
      },
      {
       "output_type": "stream",
       "stream": "stdout",
       "text": [
        "\r",
        "Processing shelf_hypoxia_NOAA_NGOM_2005_2011_NGOM (5 of 111) "
       ]
      },
      {
       "output_type": "stream",
       "stream": "stdout",
       "text": [
        "\r",
        "Processing shelf_hypoxia_TAMU_ROMS_2004_2009_hycom_obc_24h (6 of 111) "
       ]
      },
      {
       "output_type": "stream",
       "stream": "stdout",
       "text": [
        "\r",
        "Processing inundation_tropical_VIMS_SELFE_Hurricane_Ike_2D_final_run_wave_only (7 of 111) "
       ]
      },
      {
       "output_type": "stream",
       "stream": "stdout",
       "text": [
        "\r",
        "Processing inundation_tropical_UND_ADCIRC_Hurricane_Ike_2D_preliminary_run_4_spinup_with_levees_and_river_flow (8 of 111) "
       ]
      },
      {
       "output_type": "stream",
       "stream": "stdout",
       "text": [
        "\r",
        "Processing shelf_hypoxia_DAL_ROMS_2004_2009_hycom_obc_with_oxygen_hnd_soc_30layers (9 of 111) "
       ]
      },
      {
       "output_type": "stream",
       "stream": "stdout",
       "text": [
        "\r",
        "Processing inundation_tropical_UND_ADCIRC_Hurricane_Rita_2D_final_run_without_waves (10 of 111) "
       ]
      },
      {
       "output_type": "stream",
       "stream": "stdout",
       "text": [
        "\r",
        "Processing inundation_tropical_UND_ADCIRC_Hurricane_Rita_3D_final_run_without_waves (11 of 111) "
       ]
      },
      {
       "output_type": "stream",
       "stream": "stdout",
       "text": [
        "\r",
        "Processing inundation_tropical_UND_ADCIRC_Hurricane_Rita_2D_preliminary_run_1_spinup (12 of 111) "
       ]
      },
      {
       "output_type": "stream",
       "stream": "stdout",
       "text": [
        "\r",
        "Processing inundation_tropical_USF_FVCOM_Hurricane_Ike_3D_final_run_with_waves (13 of 111) "
       ]
      },
      {
       "output_type": "stream",
       "stream": "stdout",
       "text": [
        "\r",
        "Processing inundation_tropical_UND_ADCIRC_Hurricane_Ike_2D_final_run_without_waves (14 of 111) "
       ]
      },
      {
       "output_type": "stream",
       "stream": "stdout",
       "text": [
        "\r",
        "Processing inundation_tropical_UND_SLOSH_Hurricane_Ike_preliminary_run_5_egm3_with_SLOSH_winds (15 of 111) "
       ]
      },
      {
       "output_type": "stream",
       "stream": "stdout",
       "text": [
        "\r",
        "Processing inundation_tropical_VIMS_SELFE_Hurricane_Ike_3D_final_run_with_waves (16 of 111) "
       ]
      },
      {
       "output_type": "stream",
       "stream": "stdout",
       "text": [
        "\r",
        "Processing inundation_tropical_UND_ADCIRC_Hurricane_Ike_3D_final_run_with_waves (17 of 111) "
       ]
      },
      {
       "output_type": "stream",
       "stream": "stdout",
       "text": [
        "\r",
        "Processing inundation_extratropical_UND_ADCIRC_2005_2D_final_run_with_waves (18 of 111) "
       ]
      },
      {
       "output_type": "stream",
       "stream": "stdout",
       "text": [
        "\r",
        "Processing inundation_tropical_UND_SLOSH_Hurricane_Rita_preliminary_run_5_egm3_with_SLOSH_winds (19 of 111) "
       ]
      },
      {
       "output_type": "stream",
       "stream": "stdout",
       "text": [
        "\r",
        "Processing inundation_tropical_UND_SLOSH_Hurricane_Rita_preliminary_run_6_egm3_with_SLOSH_winds_without_tides (20 of 111) "
       ]
      },
      {
       "output_type": "stream",
       "stream": "stdout",
       "text": [
        "\r",
        "Processing inundation_extratropical_UND_ADCIRC_2005_2D_final_run_wave_model_only_without_circulation (21 of 111) "
       ]
      },
      {
       "output_type": "stream",
       "stream": "stdout",
       "text": [
        "\r",
        "Processing shelf_hypoxia_DAL_ROMS_2004_2009_ias_obc_with_oxygen_inst_rem_30layers (22 of 111) "
       ]
      },
      {
       "output_type": "stream",
       "stream": "stdout",
       "text": [
        "\r",
        "Processing inundation_extratropical_VIMS_SELFE_2005_2D_final_run_waves_only (23 of 111) "
       ]
      },
      {
       "output_type": "stream",
       "stream": "stdout",
       "text": [
        "\r",
        "Processing inundation_tropical_USF_FVCOM_SWAN_Rita_final_run_without_Surge (24 of 111) "
       ]
      },
      {
       "output_type": "stream",
       "stream": "stdout",
       "text": [
        "\r",
        "Processing inundation_tropical_MDL_SLOSH_Hurricane_Ike_final_run_egm3 (25 of 111) "
       ]
      },
      {
       "output_type": "stream",
       "stream": "stdout",
       "text": [
        "\r",
        "Processing inundation_extratropical_VIMS_SELFE_2005_2D_preliminary_run_without_waves (26 of 111) "
       ]
      },
      {
       "output_type": "stream",
       "stream": "stdout",
       "text": [
        "\r",
        "Processing inundation_extratropical_VIMS_SELFE_2007_2D_preliminary_run_without_waves (27 of 111) "
       ]
      },
      {
       "output_type": "stream",
       "stream": "stdout",
       "text": [
        "\r",
        "Processing inundation_tropical_UND_ADCIRC_Hurricane_Rita_2D_preliminary_run_2_spinup_without_advection_implicit_1s (28 of 111) "
       ]
      },
      {
       "output_type": "stream",
       "stream": "stdout",
       "text": [
        "\r",
        "Processing estuarine_hypoxia_VIMS_CBOFS_2004_2005 (29 of 111) "
       ]
      },
      {
       "output_type": "stream",
       "stream": "stdout",
       "text": [
        "\r",
        "Processing inundation_tropical_UND_SLOSH_Hurricane_Rita_final_run_ebp3 (30 of 111) "
       ]
      },
      {
       "output_type": "stream",
       "stream": "stdout",
       "text": [
        "\r",
        "Processing inundation_tropical_UND_ADCIRC_Hurricane_Rita_3D_preliminary_run_1_spinup (31 of 111) "
       ]
      },
      {
       "output_type": "stream",
       "stream": "stdout",
       "text": [
        "\r",
        "Processing inundation_tropical_USF_FVCOM_Tides_only_2D_preliminary_run_1_fixed_manning (32 of 111) "
       ]
      },
      {
       "output_type": "stream",
       "stream": "stdout",
       "text": [
        "\r",
        "Processing inundation_tropical_USF_FVCOM_Hurricane_Ike_3D_final_run_without_waves (33 of 111) "
       ]
      },
      {
       "output_type": "stream",
       "stream": "stdout",
       "text": [
        "\r",
        "Processing inundation_tropical_UND_SLOSH_Hurricane_Ike_preliminary_run_3_egl3_with_SLOSH_winds_without_tides (34 of 111) "
       ]
      },
      {
       "output_type": "stream",
       "stream": "stdout",
       "text": [
        "\r",
        "Processing shelf_hypoxia_DAL_ROMS_2004_2009_hycom_obc_with_oxygen_inst_rem_30layers (35 of 111) "
       ]
      },
      {
       "output_type": "stream",
       "stream": "stdout",
       "text": [
        "\r",
        "Processing inundation_tropical_UND_ADCIRC_Hurricane_Rita_2D_preliminary_run_4_with_waves_without_advection_implicit_1s (36 of 111) "
       ]
      },
      {
       "output_type": "stream",
       "stream": "stdout",
       "text": [
        "\r",
        "Processing inundation_tropical_UND_ADCIRC_Hurricane_Rita_2D_final_run_with_waves (37 of 111) "
       ]
      },
      {
       "output_type": "stream",
       "stream": "stdout",
       "text": [
        "\r",
        "Processing inundation_tropical_UND_ADCIRC_Hurricane_Ike_3D_preliminary_run_1_spinup (38 of 111) "
       ]
      },
      {
       "output_type": "stream",
       "stream": "stdout",
       "text": [
        "\r",
        "Processing inundation_extratropical_UMASS_FVCOM_2005_3D_final_run_waves_only (39 of 111) "
       ]
      },
      {
       "output_type": "stream",
       "stream": "stdout",
       "text": [
        "\r",
        "Processing inundation_tropical_USF_FVCOM_SWAN_Ike_final_run_with_2DSurge (40 of 111) "
       ]
      },
      {
       "output_type": "stream",
       "stream": "stdout",
       "text": [
        "\r",
        "Processing inundation_extratropical_UMASS_FVCOM_2007_3D_final_run_with_waves (41 of 111) "
       ]
      },
      {
       "output_type": "stream",
       "stream": "stdout",
       "text": [
        "\r",
        "Processing inundation_tropical_USF_FVCOM_SWAN_Rita_final_run_with_2DSurge (42 of 111) "
       ]
      },
      {
       "output_type": "stream",
       "stream": "stdout",
       "text": [
        "\r",
        "Processing inundation_extratropical_VIMS_SELFE_2007_2D_preliminary_run_with_waves (43 of 111) "
       ]
      },
      {
       "output_type": "stream",
       "stream": "stdout",
       "text": [
        "\r",
        "Processing estuarine_hypoxia_VIMS_EFDC_2004_DO3d (44 of 111) "
       ]
      },
      {
       "output_type": "stream",
       "stream": "stdout",
       "text": [
        "\r",
        "Processing inundation_tropical_UND_ADCIRC_Hurricane_Ike_2D_final_run_with_waves (45 of 111) "
       ]
      },
      {
       "output_type": "stream",
       "stream": "stdout",
       "text": [
        "\r",
        "Processing inundation_tropical_UND_ADCIRC_Hurricane_Rita_2D_preliminary_run_3_tides_only (46 of 111) "
       ]
      },
      {
       "output_type": "stream",
       "stream": "stdout",
       "text": [
        "\r",
        "Processing inundation_tropical_UND_ADCIRC_Hurricane_Ike_Timing_with_waves (47 of 111) "
       ]
      },
      {
       "output_type": "stream",
       "stream": "stdout",
       "text": [
        "\r",
        "Processing inundation_extratropical_VIMS_SELFE_2007_2D_preliminary_run_waves_only (48 of 111) "
       ]
      },
      {
       "output_type": "stream",
       "stream": "stdout",
       "text": [
        "\r",
        "Processing inundation_tropical_UND_SLOSH_Hurricane_Rita_preliminary_run_1_ebp3_without_tides (49 of 111) "
       ]
      },
      {
       "output_type": "stream",
       "stream": "stdout",
       "text": [
        "\r",
        "Processing inundation_tropical_UND_SLOSH_Hurricane_Rita_preliminary_run_4_egm3_without_tides (50 of 111) "
       ]
      },
      {
       "output_type": "stream",
       "stream": "stdout",
       "text": [
        "\r",
        "Processing inundation_tropical_UND_SLOSH_Hurricane_Ike_final_run_egl3 (51 of 111) "
       ]
      },
      {
       "output_type": "stream",
       "stream": "stdout",
       "text": [
        "\r",
        "Processing inundation_extratropical_UND_ADCIRC_2007_2D_final_run_wave_model_only_without_circulation (52 of 111) "
       ]
      },
      {
       "output_type": "stream",
       "stream": "stdout",
       "text": [
        "\r",
        "Processing inundation_tropical_UND_SLOSH_Hurricane_Rita_final_run_egm3 (53 of 111) "
       ]
      },
      {
       "output_type": "stream",
       "stream": "stdout",
       "text": [
        "\r",
        "Processing inundation_tropical_UND_SLOSH_Hurricane_Ike_preliminary_run_4_egm3_without_tides (54 of 111) "
       ]
      },
      {
       "output_type": "stream",
       "stream": "stdout",
       "text": [
        "\r",
        "Processing inundation_tropical_USF_FVCOM_Hurricane_Rita_3D_final_run_with_waves (55 of 111) "
       ]
      },
      {
       "output_type": "stream",
       "stream": "stdout",
       "text": [
        "\r",
        "Processing inundation_extratropical_VIMS_SELFE_2007_2D_final_run_waves_only (56 of 111) "
       ]
      },
      {
       "output_type": "stream",
       "stream": "stdout",
       "text": [
        "\r",
        "Processing inundation_tropical_UND_SLOSH_Hurricane_Rita_preliminary_run_3_ebp3_with_SLOSH_winds_without_tides (57 of 111) "
       ]
      },
      {
       "output_type": "stream",
       "stream": "stdout",
       "text": [
        "\r",
        "Processing inundation_tropical_UND_SLOSH_Hurricane_Rita_preliminary_run_2_ebp3_with_SLOSH_winds (58 of 111) "
       ]
      },
      {
       "output_type": "stream",
       "stream": "stdout",
       "text": [
        "\r",
        "Processing inundation_tropical_UND_ADCIRC_Hurricane_Ike_2D_preliminary_run_5_tides_only (59 of 111) "
       ]
      },
      {
       "output_type": "stream",
       "stream": "stdout",
       "text": [
        "\r",
        "Processing inundation_extratropical_UND_ADCIRC_2010_2D_final_run_tides_only (60 of 111) "
       ]
      },
      {
       "output_type": "stream",
       "stream": "stdout",
       "text": [
        "\r",
        "Processing inundation_tropical_VIMS_SELFE_Hurricane_Rita_2D_final_run_without_waves (61 of 111) "
       ]
      },
      {
       "output_type": "stream",
       "stream": "stdout",
       "text": [
        "\r",
        "Processing inundation_tropical_VIMS_SELFE_Hurricane_Rita_3D_final_run_without_waves (62 of 111) "
       ]
      },
      {
       "output_type": "stream",
       "stream": "stdout",
       "text": [
        "\r",
        "Processing inundation_extratropical_VIMS_SELFE_2005_2D_preliminary_run_waves_only (63 of 111) "
       ]
      },
      {
       "output_type": "stream",
       "stream": "stdout",
       "text": [
        "\r",
        "Processing inundation_extratropical_VIMS_SELFE_2010_2D_final_run_tide_only (64 of 111) "
       ]
      },
      {
       "output_type": "stream",
       "stream": "stdout",
       "text": [
        "\r",
        "Processing inundation_tropical_UND_ADCIRC_Hurricane_Ike_2D_preliminary_run_1_spinup (65 of 111) "
       ]
      },
      {
       "output_type": "stream",
       "stream": "stdout",
       "text": [
        "\r",
        "Processing inundation_extratropical_VIMS_SELFE_2005_2D_final_run_with_waves (66 of 111) "
       ]
      },
      {
       "output_type": "stream",
       "stream": "stdout",
       "text": [
        "\r",
        "Processing inundation_tropical_UND_SLOSH_Hurricane_Ike_preliminary_run_1_egl3_without_tides (67 of 111) "
       ]
      },
      {
       "output_type": "stream",
       "stream": "stdout",
       "text": [
        "\r",
        "Processing inundation_tropical_UND_ADCIRC_Hurricane_Rita_3D_final_run_with_waves (68 of 111) "
       ]
      },
      {
       "output_type": "stream",
       "stream": "stdout",
       "text": [
        "\r",
        "Processing inundation_extratropical_UMASS_FVCOM_2007_3D_final_run_waves_only (69 of 111) "
       ]
      },
      {
       "output_type": "stream",
       "stream": "stdout",
       "text": [
        "\r",
        "Processing inundation_tropical_UND_ADCIRC_Tides_only_3D_final_run (70 of 111) "
       ]
      },
      {
       "output_type": "stream",
       "stream": "stdout",
       "text": [
        "\r",
        "Processing shelf_hypoxia_DAL_ROMS__2004_2009_climatology_obc_with_oxygen_hnd_soc_20layers (71 of 111) "
       ]
      },
      {
       "output_type": "stream",
       "stream": "stdout",
       "text": [
        "\r",
        "Processing inundation_tropical_UND_ADCIRC_Hurricane_Ike_2D_preliminary_run_8_with_waves_and_levees (72 of 111) "
       ]
      },
      {
       "output_type": "stream",
       "stream": "stdout",
       "text": [
        "\r",
        "Processing inundation_tropical_UND_ADCIRC_Hurricane_Ike_Timing_without_waves (73 of 111) "
       ]
      },
      {
       "output_type": "stream",
       "stream": "stdout",
       "text": [
        "\r",
        "Processing shelf_hypoxia_TAMU_ROMS_2004_2009_iasnfs_obc_24h (74 of 111) "
       ]
      },
      {
       "output_type": "stream",
       "stream": "stdout",
       "text": [
        "\r",
        "Processing inundation_tropical_UND_ADCIRC_Hurricane_Ike_2D_preliminary_run_2_spinup_without_advection_implicit_1s (75 of 111) "
       ]
      },
      {
       "output_type": "stream",
       "stream": "stdout",
       "text": [
        "\r",
        "Processing inundation_extratropical_UMASS_FVCOM_2005_3D_final_run_with_waves (76 of 111) "
       ]
      },
      {
       "output_type": "stream",
       "stream": "stdout",
       "text": [
        "\r",
        "Processing inundation_tropical_UND_ADCIRC_Hurricane_Ike_2D_preliminary_run_6_without_waves_and_advection_implicit_1s (77 of 111) "
       ]
      },
      {
       "output_type": "stream",
       "stream": "stdout",
       "text": [
        "\r",
        "Processing inundation_tropical_USF_FVCOM_Hurricane_Rita_3D_final_run_without_waves (78 of 111) "
       ]
      },
      {
       "output_type": "stream",
       "stream": "stdout",
       "text": [
        "\r",
        "Processing inundation_tropical_USF_FVCOM_Hurricane_Rita_2D_final_run_with_waves (79 of 111) "
       ]
      },
      {
       "output_type": "stream",
       "stream": "stdout",
       "text": [
        "\r",
        "Processing inundation_extratropical_UND_ADCIRC_2007_2D_final_run_without_waves (80 of 111) "
       ]
      },
      {
       "output_type": "stream",
       "stream": "stdout",
       "text": [
        "\r",
        "Processing shelf_hypoxia_TAMU_ROMS_2004_2009_ngom_obc_24h (81 of 111) "
       ]
      },
      {
       "output_type": "stream",
       "stream": "stdout",
       "text": [
        "\r",
        "Processing inundation_extratropical_UMASS_FVCOM_2007_3D_final_run_without_waves (82 of 111) "
       ]
      },
      {
       "output_type": "stream",
       "stream": "stdout",
       "text": [
        "\r",
        "Processing inundation_tropical_UND_SLOSH_Hurricane_Ike_preliminary_run_6_egm3_with_SLOSH_winds_without_tides (83 of 111) "
       ]
      },
      {
       "output_type": "stream",
       "stream": "stdout",
       "text": [
        "\r",
        "Processing inundation_tropical_USF_FVCOM_Hurricane_Ike_2D_final_run_with_waves (84 of 111) "
       ]
      },
      {
       "output_type": "stream",
       "stream": "stdout",
       "text": [
        "\r",
        "Processing inundation_extratropical_UND_ADCIRC_2007_2D_final_run_with_waves (85 of 111) "
       ]
      },
      {
       "output_type": "stream",
       "stream": "stdout",
       "text": [
        "\r",
        "Processing inundation_extratropical_VIMS_SELFE_2005_2D_final_run_without_waves (86 of 111) "
       ]
      },
      {
       "output_type": "stream",
       "stream": "stdout",
       "text": [
        "\r",
        "Processing inundation_tropical_USF_FVCOM_SWAN_Ike_final_run_without_Surge (87 of 111) "
       ]
      },
      {
       "output_type": "stream",
       "stream": "stdout",
       "text": [
        "\r",
        "Processing inundation_tropical_UND_ADCIRC_Hurricane_Ike_2D_preliminary_run_7_with_waves_without_advection_implicit_1s (88 of 111) "
       ]
      },
      {
       "output_type": "stream",
       "stream": "stdout",
       "text": [
        "\r",
        "Processing inundation_tropical_UND_ADCIRC_Tides_only_2D_final_run (89 of 111) "
       ]
      },
      {
       "output_type": "stream",
       "stream": "stdout",
       "text": [
        "\r",
        "Processing inundation_extratropical_UND_ADCIRC_2005_2D_final_run_without_waves (90 of 111) "
       ]
      },
      {
       "output_type": "stream",
       "stream": "stdout",
       "text": [
        "\r",
        "Processing inundation_tropical_USF_FVCOM_Hurricane_Rita_2D_final_run_without_waves (91 of 111) "
       ]
      },
      {
       "output_type": "stream",
       "stream": "stdout",
       "text": [
        "\r",
        "Processing inundation_tropical_VIMS_SELFE_Hurricane_Ike_3D_final_run_without_waves (92 of 111) "
       ]
      },
      {
       "output_type": "stream",
       "stream": "stdout",
       "text": [
        "\r",
        "Processing estofs_atlantic (93 of 111) "
       ]
      },
      {
       "output_type": "stream",
       "stream": "stdout",
       "text": [
        "\r",
        "Processing inundation_tropical_VIMS_SELFE_Hurricane_Ike_2D_final_run_with_waves (94 of 111) "
       ]
      },
      {
       "output_type": "stream",
       "stream": "stdout",
       "text": [
        "\r",
        "Processing inundation_extratropical_VIMS_SELFE_2007_2D_final_run_with_waves (95 of 111) "
       ]
      },
      {
       "output_type": "stream",
       "stream": "stdout",
       "text": [
        "\r",
        "Processing inundation_tropical_USF_FVCOM_Hurricane_Ike_2D_final_run_without_waves (96 of 111) "
       ]
      },
      {
       "output_type": "stream",
       "stream": "stdout",
       "text": [
        "\r",
        "Processing inundation_tropical_VIMS_SELFE_Hurricane_Rita_2D_final_run_with_waves (97 of 111) "
       ]
      },
      {
       "output_type": "stream",
       "stream": "stdout",
       "text": [
        "\r",
        "Processing inundation_extratropical_VIMS_SELFE_2007_2D_final_run_without_waves (98 of 111) "
       ]
      },
      {
       "output_type": "stream",
       "stream": "stdout",
       "text": [
        "\r",
        "Processing inundation_tropical_VIMS_SELFE_Hurricane_Rita_3D_final_run_with_waves (99 of 111) "
       ]
      },
      {
       "output_type": "stream",
       "stream": "stdout",
       "text": [
        "\r",
        "Processing inundation_tropical_UND_ADCIRC_Hurricane_Ike_2D_preliminary_run_9_with_waves_and_levees_and_river_flow (100 of 111) "
       ]
      },
      {
       "output_type": "stream",
       "stream": "stdout",
       "text": [
        "\r",
        "Processing inundation_tropical_UND_ADCIRC_Hurricane_Ike_2D_preliminary_run_3_spinup_with_levees (101 of 111) "
       ]
      },
      {
       "output_type": "stream",
       "stream": "stdout",
       "text": [
        "\r",
        "Processing inundation_tropical_VIMS_SELFE_Hurricane_Rita_2D_final_run_waves_only (102 of 111) "
       ]
      },
      {
       "output_type": "stream",
       "stream": "stdout",
       "text": [
        "\r",
        "Processing inundation_tropical_USF_FVCOM_Tides_only_2D_preliminary_run_2_varied_manning_minimum_manning_0_025 (103 of 111) "
       ]
      },
      {
       "output_type": "stream",
       "stream": "stdout",
       "text": [
        "\r",
        "Processing shelf_hypoxia_DAL_ROMS_2004_2009_ias_obc_with_oxygen_hnd_soc_30layers (104 of 111) "
       ]
      },
      {
       "output_type": "stream",
       "stream": "stdout",
       "text": [
        "\r",
        "Processing inundation_tropical_VIMS_SELFE_Hurricane_Ike_2D_final_run_without_waves (105 of 111) "
       ]
      },
      {
       "output_type": "stream",
       "stream": "stdout",
       "text": [
        "\r",
        "Processing inundation_tropical_UND_SLOSH_Hurricane_Ike_preliminary_run_2_egl3_with_SLOSH_winds (106 of 111) "
       ]
      },
      {
       "output_type": "stream",
       "stream": "stdout",
       "text": [
        "\r",
        "Processing inundation_extratropical_VIMS_SELFE_2010_2D_preliminary_run_without_waves (107 of 111) "
       ]
      },
      {
       "output_type": "stream",
       "stream": "stdout",
       "text": [
        "\r",
        "Processing shelf_hypoxia_DAL_ROMS_2004_2009_climatology_obc_with_oxygen_inst_rem_20layers (108 of 111) "
       ]
      },
      {
       "output_type": "stream",
       "stream": "stdout",
       "text": [
        "\r",
        "Processing inundation_tropical_UND_ADCIRC_Hurricane_Rita_2D_preliminary_run_5_without_waves_and_advection_implicit_1s (109 of 111) "
       ]
      },
      {
       "output_type": "stream",
       "stream": "stdout",
       "text": [
        "\r",
        "Processing inundation_tropical_UND_ADCIRC_Tides_only_2D_preliminary_run_1_without_advection_implicit_1s (110 of 111) "
       ]
      },
      {
       "output_type": "stream",
       "stream": "stdout",
       "text": [
        "\r",
        "Processing inundation_extratropical_VIMS_SELFE_2005_2D_preliminary_run_with_waves (111 of 111)\n"
       ]
      }
     ],
     "prompt_number": 79
    },
    {
     "cell_type": "code",
     "collapsed": false,
     "input": [
      "print temporal_extent"
     ],
     "language": "python",
     "metadata": {},
     "outputs": [
      {
       "output_type": "stream",
       "stream": "stdout",
       "text": [
        "{'inundation_tropical_MDL_SLOSH_Hurricane_Rita_final_run_egm3': [datetime.datetime(2005, 9, 22, 23, 0, 20), datetime.datetime(2005, 9, 25, 1, 0)], 'inundation_tropical_UND_ADCIRC_Hurricane_Ike_3D_final_run_without_waves': [datetime.datetime(2008, 9, 10, 12, 30), datetime.datetime(2008, 9, 17, 12, 0)], 'inundation_tropical_USF_FVCOM_Tides_only_2D_final_run': [datetime.datetime(2008, 6, 18, 0, 0), datetime.datetime(2008, 9, 1, 0, 0)], 'inundation_tropical_UND_SLOSH_Hurricane_Ike_final_run_egm3': [datetime.datetime(2008, 9, 10, 9, 0), datetime.datetime(2008, 9, 14, 11, 0)], 'shelf_hypoxia_NOAA_NGOM_2005_2011_NGOM': [datetime.datetime(2011, 10, 5, 14, 30, 7), datetime.datetime(2011, 7, 5, 8, 30, 7)], 'shelf_hypoxia_TAMU_ROMS_2004_2009_hycom_obc_24h': [], 'inundation_tropical_VIMS_SELFE_Hurricane_Ike_2D_final_run_wave_only': [datetime.datetime(2008, 9, 10, 0, 30), datetime.datetime(2008, 9, 18, 0, 0)], 'inundation_tropical_UND_ADCIRC_Hurricane_Ike_2D_preliminary_run_4_spinup_with_levees_and_river_flow': [], 'shelf_hypoxia_DAL_ROMS_2004_2009_hycom_obc_with_oxygen_hnd_soc_30layers': [], 'inundation_tropical_UND_ADCIRC_Hurricane_Rita_2D_final_run_without_waves': [datetime.datetime(2005, 9, 18, 0, 10), datetime.datetime(2005, 9, 30, 0, 0)], 'shelf_hypoxia_DAL_ROMS_2004_2009_ias_obc_with_oxygen_inst_rem_30layers': [], 'inundation_tropical_UND_ADCIRC_Hurricane_Rita_2D_preliminary_run_1_spinup': [], 'inundation_tropical_USF_FVCOM_Hurricane_Ike_3D_final_run_with_waves': [datetime.datetime(2008, 9, 10, 0, 0), datetime.datetime(2008, 9, 17, 12, 0)], 'inundation_tropical_UND_ADCIRC_Hurricane_Ike_2D_final_run_without_waves': [datetime.datetime(2008, 9, 5, 12, 10), datetime.datetime(2008, 9, 17, 12, 0)], 'inundation_tropical_UND_SLOSH_Hurricane_Ike_preliminary_run_5_egm3_with_SLOSH_winds': [datetime.datetime(2008, 9, 10, 9, 0), datetime.datetime(2008, 9, 14, 11, 0)], 'inundation_tropical_VIMS_SELFE_Hurricane_Ike_3D_final_run_with_waves': [datetime.datetime(2008, 9, 10, 0, 10), datetime.datetime(2008, 9, 18, 0, 0)], 'inundation_tropical_UND_ADCIRC_Hurricane_Ike_3D_final_run_with_waves': [datetime.datetime(2008, 9, 5, 12, 30), datetime.datetime(2008, 9, 17, 12, 0)], 'inundation_extratropical_UND_ADCIRC_2005_2D_final_run_with_waves': [datetime.datetime(2005, 5, 21, 0, 30), datetime.datetime(2005, 6, 1, 0, 0)], 'inundation_tropical_UND_SLOSH_Hurricane_Rita_preliminary_run_5_egm3_with_SLOSH_winds': [datetime.datetime(2005, 9, 21, 9, 0), datetime.datetime(2005, 9, 25, 11, 0)], 'inundation_tropical_UND_SLOSH_Hurricane_Rita_preliminary_run_6_egm3_with_SLOSH_winds_without_tides': [datetime.datetime(2005, 9, 21, 9, 0), datetime.datetime(2005, 9, 25, 11, 0)], 'inundation_extratropical_UND_ADCIRC_2005_2D_final_run_wave_model_only_without_circulation': [datetime.datetime(2005, 5, 21, 0, 30), datetime.datetime(2005, 6, 1, 0, 0)], 'inundation_tropical_UND_ADCIRC_Hurricane_Rita_3D_final_run_without_waves': [datetime.datetime(2005, 9, 18, 0, 10), datetime.datetime(2005, 9, 30, 0, 0)], 'inundation_extratropical_VIMS_SELFE_2005_2D_final_run_waves_only': [datetime.datetime(2005, 5, 1, 1, 0), datetime.datetime(2005, 5, 31, 0, 0)], 'inundation_tropical_UND_ADCIRC_Hurricane_Ike_2D_preliminary_run_5_tides_only': [datetime.datetime(2008, 9, 5, 12, 10), datetime.datetime(2008, 9, 17, 12, 0)], 'inundation_tropical_MDL_SLOSH_Hurricane_Ike_final_run_egm3': [datetime.datetime(2008, 9, 10, 9, 0, 20), datetime.datetime(2008, 9, 13, 22, 0)], 'inundation_extratropical_VIMS_SELFE_2005_2D_preliminary_run_without_waves': [datetime.datetime(2005, 5, 10, 1, 0), datetime.datetime(2005, 5, 31, 0, 0)], 'inundation_extratropical_VIMS_SELFE_2007_2D_preliminary_run_without_waves': [datetime.datetime(2007, 5, 10, 1, 0), datetime.datetime(2007, 5, 30, 0, 0)], 'inundation_tropical_UND_SLOSH_Hurricane_Rita_final_run_egm3': [datetime.datetime(2005, 9, 21, 9, 0), datetime.datetime(2005, 9, 25, 11, 0)], 'estuarine_hypoxia_VIMS_CBOFS_2004_2005': [], 'inundation_tropical_UND_SLOSH_Hurricane_Rita_final_run_ebp3': [datetime.datetime(2005, 9, 21, 9, 0), datetime.datetime(2005, 9, 25, 11, 0)], 'inundation_tropical_UND_ADCIRC_Hurricane_Rita_3D_preliminary_run_1_spinup': [], 'inundation_tropical_USF_FVCOM_Tides_only_2D_preliminary_run_1_fixed_manning': [datetime.datetime(2008, 6, 18, 0, 0), datetime.datetime(2008, 9, 1, 0, 0)], 'inundation_tropical_USF_FVCOM_Hurricane_Ike_3D_final_run_without_waves': [datetime.datetime(2008, 9, 10, 0, 0), datetime.datetime(2008, 9, 17, 12, 0)], 'inundation_tropical_UND_SLOSH_Hurricane_Ike_preliminary_run_3_egl3_with_SLOSH_winds_without_tides': [datetime.datetime(2008, 9, 10, 9, 0), datetime.datetime(2008, 9, 14, 11, 0)], 'shelf_hypoxia_DAL_ROMS_2004_2009_hycom_obc_with_oxygen_inst_rem_30layers': [], 'inundation_tropical_UND_ADCIRC_Hurricane_Rita_2D_preliminary_run_4_with_waves_without_advection_implicit_1s': [datetime.datetime(2005, 9, 18, 0, 10), datetime.datetime(2005, 9, 30, 0, 0)], 'inundation_tropical_UND_ADCIRC_Hurricane_Rita_2D_final_run_with_waves': [datetime.datetime(2005, 9, 18, 0, 10), datetime.datetime(2005, 9, 30, 0, 0)], 'inundation_tropical_UND_ADCIRC_Hurricane_Ike_3D_preliminary_run_1_spinup': [], 'inundation_extratropical_UMASS_FVCOM_2005_3D_final_run_waves_only': [datetime.datetime(2005, 5, 1, 0, 0), datetime.datetime(2005, 5, 31, 22, 58, 8)], 'inundation_tropical_USF_FVCOM_SWAN_Ike_final_run_with_2DSurge': [], 'inundation_extratropical_UMASS_FVCOM_2007_3D_final_run_with_waves': [datetime.datetime(2007, 4, 1, 0, 0), datetime.datetime(2007, 5, 1, 0, 0)], 'inundation_tropical_USF_FVCOM_SWAN_Rita_final_run_with_2DSurge': [], 'inundation_extratropical_VIMS_SELFE_2007_2D_preliminary_run_with_waves': [datetime.datetime(2007, 4, 10, 1, 0), datetime.datetime(2007, 4, 10, 0, 0)], 'estuarine_hypoxia_VIMS_EFDC_2004_DO3d': [datetime.datetime(2004, 1, 1, 0, 30), datetime.datetime(2004, 12, 25, 11, 30)], 'inundation_tropical_UND_ADCIRC_Hurricane_Ike_2D_final_run_with_waves': [datetime.datetime(2008, 9, 5, 12, 10), datetime.datetime(2008, 9, 17, 12, 0)], 'inundation_tropical_UND_ADCIRC_Hurricane_Rita_2D_preliminary_run_3_tides_only': [datetime.datetime(2005, 9, 18, 0, 10), datetime.datetime(2005, 9, 30, 0, 0)], 'inundation_tropical_UND_ADCIRC_Hurricane_Ike_Timing_with_waves': [datetime.datetime(2008, 9, 10, 1, 0), datetime.datetime(2008, 9, 14, 0, 0)], 'inundation_extratropical_VIMS_SELFE_2007_2D_preliminary_run_waves_only': [datetime.datetime(2007, 4, 10, 1, 0), datetime.datetime(2007, 4, 10, 0, 0)], 'inundation_tropical_UND_SLOSH_Hurricane_Rita_preliminary_run_1_ebp3_without_tides': [datetime.datetime(2005, 9, 21, 9, 0), datetime.datetime(2005, 9, 25, 11, 0)], 'inundation_tropical_UND_SLOSH_Hurricane_Rita_preliminary_run_4_egm3_without_tides': [datetime.datetime(2005, 9, 21, 9, 0), datetime.datetime(2005, 9, 25, 11, 0)], 'inundation_tropical_VIMS_SELFE_Hurricane_Rita_3D_final_run_with_waves': [datetime.datetime(2005, 9, 18, 0, 10), datetime.datetime(2005, 9, 27, 0, 0)], 'inundation_tropical_UND_ADCIRC_Hurricane_Ike_2D_preliminary_run_7_with_waves_without_advection_implicit_1s': [datetime.datetime(2008, 9, 5, 12, 10), datetime.datetime(2008, 9, 17, 12, 0)], 'inundation_extratropical_UND_ADCIRC_2007_2D_final_run_wave_model_only_without_circulation': [datetime.datetime(2007, 4, 13, 0, 30), datetime.datetime(2007, 5, 1, 0, 0)], 'inundation_tropical_UND_ADCIRC_Hurricane_Rita_2D_preliminary_run_2_spinup_without_advection_implicit_1s': [], 'inundation_tropical_UND_SLOSH_Hurricane_Ike_preliminary_run_4_egm3_without_tides': [datetime.datetime(2008, 9, 10, 9, 0), datetime.datetime(2008, 9, 14, 11, 0)], 'inundation_tropical_USF_FVCOM_Hurricane_Rita_3D_final_run_with_waves': [datetime.datetime(2005, 9, 21, 0, 0), datetime.datetime(2005, 9, 27, 0, 0)], 'inundation_extratropical_VIMS_SELFE_2007_2D_final_run_waves_only': [datetime.datetime(2007, 4, 1, 1, 0), datetime.datetime(2007, 4, 30, 0, 0)], 'inundation_tropical_UND_SLOSH_Hurricane_Rita_preliminary_run_3_ebp3_with_SLOSH_winds_without_tides': [datetime.datetime(2005, 9, 21, 9, 0), datetime.datetime(2005, 9, 25, 11, 0)], 'inundation_tropical_UND_SLOSH_Hurricane_Rita_preliminary_run_2_ebp3_with_SLOSH_winds': [datetime.datetime(2005, 9, 21, 9, 0), datetime.datetime(2005, 9, 25, 11, 0)], 'inundation_tropical_USF_FVCOM_SWAN_Rita_final_run_without_Surge': [], 'inundation_extratropical_UND_ADCIRC_2010_2D_final_run_tides_only': [datetime.datetime(2010, 4, 1, 1, 0), datetime.datetime(2010, 5, 2, 0, 0)], 'inundation_tropical_VIMS_SELFE_Hurricane_Rita_2D_final_run_without_waves': [datetime.datetime(2005, 9, 18, 0, 10), datetime.datetime(2005, 9, 25, 0, 0)], 'inundation_tropical_VIMS_SELFE_Hurricane_Rita_3D_final_run_without_waves': [datetime.datetime(2005, 9, 18, 0, 10), datetime.datetime(2005, 9, 27, 0, 0)], 'inundation_extratropical_VIMS_SELFE_2005_2D_preliminary_run_waves_only': [datetime.datetime(2005, 5, 10, 1, 0), datetime.datetime(2005, 5, 10, 0, 0)], 'inundation_extratropical_VIMS_SELFE_2010_2D_final_run_tide_only': [datetime.datetime(2010, 4, 1, 1, 0), datetime.datetime(2010, 6, 1, 0, 0)], 'inundation_tropical_UND_ADCIRC_Hurricane_Ike_2D_preliminary_run_1_spinup': [], 'inundation_extratropical_VIMS_SELFE_2005_2D_final_run_with_waves': [datetime.datetime(2005, 5, 1, 1, 0), datetime.datetime(2005, 5, 31, 0, 0)], 'inundation_tropical_UND_SLOSH_Hurricane_Ike_preliminary_run_1_egl3_without_tides': [datetime.datetime(2008, 9, 10, 9, 0), datetime.datetime(2008, 9, 14, 11, 0)], 'inundation_tropical_UND_ADCIRC_Hurricane_Rita_3D_final_run_with_waves': [datetime.datetime(2005, 9, 18, 0, 10), datetime.datetime(2005, 9, 30, 0, 0)], 'inundation_extratropical_UMASS_FVCOM_2007_3D_final_run_waves_only': [datetime.datetime(2007, 4, 1, 0, 0), datetime.datetime(2007, 4, 30, 22, 58, 8)], 'inundation_tropical_UND_ADCIRC_Tides_only_3D_final_run': [datetime.datetime(2008, 6, 18, 0, 30), datetime.datetime(2008, 9, 1, 0, 0)], 'shelf_hypoxia_DAL_ROMS__2004_2009_climatology_obc_with_oxygen_hnd_soc_20layers': [], 'inundation_tropical_UND_ADCIRC_Hurricane_Ike_2D_preliminary_run_8_with_waves_and_levees': [datetime.datetime(2008, 9, 5, 12, 10), datetime.datetime(2008, 9, 17, 12, 0)], 'inundation_tropical_UND_ADCIRC_Hurricane_Ike_Timing_without_waves': [datetime.datetime(2008, 9, 10, 1, 0), datetime.datetime(2008, 9, 14, 0, 0)], 'shelf_hypoxia_TAMU_ROMS_2004_2009_iasnfs_obc_24h': [], 'inundation_tropical_UND_ADCIRC_Hurricane_Ike_2D_preliminary_run_2_spinup_without_advection_implicit_1s': [], 'inundation_tropical_UND_SLOSH_Hurricane_Ike_preliminary_run_6_egm3_with_SLOSH_winds_without_tides': [datetime.datetime(2008, 9, 10, 9, 0), datetime.datetime(2008, 9, 14, 11, 0)], 'inundation_tropical_UND_ADCIRC_Hurricane_Ike_2D_preliminary_run_6_without_waves_and_advection_implicit_1s': [datetime.datetime(2008, 9, 5, 12, 10), datetime.datetime(2008, 9, 17, 12, 0)], 'inundation_tropical_USF_FVCOM_Hurricane_Rita_3D_final_run_without_waves': [datetime.datetime(2005, 9, 21, 0, 0), datetime.datetime(2005, 9, 27, 0, 0)], 'inundation_tropical_USF_FVCOM_Hurricane_Rita_2D_final_run_with_waves': [datetime.datetime(2005, 9, 21, 0, 0), datetime.datetime(2005, 9, 27, 0, 0)], 'inundation_extratropical_UND_ADCIRC_2007_2D_final_run_without_waves': [datetime.datetime(2007, 5, 1, 0, 0), datetime.datetime(2007, 5, 1, 0, 0)], 'shelf_hypoxia_TAMU_ROMS_2004_2009_ngom_obc_24h': [], 'inundation_extratropical_UMASS_FVCOM_2007_3D_final_run_without_waves': [datetime.datetime(2007, 4, 1, 0, 0), datetime.datetime(2007, 5, 1, 0, 0)], 'inundation_extratropical_UMASS_FVCOM_2005_3D_final_run_with_waves': [datetime.datetime(2005, 5, 1, 0, 0), datetime.datetime(2005, 6, 1, 0, 0)], 'inundation_tropical_USF_FVCOM_Hurricane_Ike_2D_final_run_with_waves': [datetime.datetime(2008, 9, 10, 0, 0), datetime.datetime(2008, 9, 17, 12, 0)], 'inundation_extratropical_UND_ADCIRC_2007_2D_final_run_with_waves': [datetime.datetime(2007, 4, 13, 0, 30), datetime.datetime(2007, 5, 1, 0, 0)], 'inundation_extratropical_VIMS_SELFE_2005_2D_final_run_without_waves': [datetime.datetime(2005, 5, 1, 1, 0), datetime.datetime(2005, 5, 31, 0, 0)], 'inundation_tropical_USF_FVCOM_SWAN_Ike_final_run_without_Surge': [], 'inundation_tropical_UND_ADCIRC_Tides_only_2D_final_run': [datetime.datetime(2008, 6, 18, 0, 30), datetime.datetime(2008, 9, 1, 0, 0)], 'inundation_extratropical_UND_ADCIRC_2005_2D_final_run_without_waves': [datetime.datetime(2005, 6, 1, 0, 0), datetime.datetime(2005, 6, 1, 0, 0)], 'inundation_tropical_USF_FVCOM_Hurricane_Rita_2D_final_run_without_waves': [datetime.datetime(2005, 9, 21, 0, 0), datetime.datetime(2005, 9, 27, 0, 0)], 'inundation_tropical_VIMS_SELFE_Hurricane_Ike_3D_final_run_without_waves': [datetime.datetime(2008, 9, 10, 0, 30), datetime.datetime(2008, 9, 18, 0, 0)], 'estofs_atlantic': [datetime.datetime(2014, 3, 1, 19, 0), datetime.datetime(2014, 7, 16, 0, 0)], 'inundation_tropical_VIMS_SELFE_Hurricane_Ike_2D_final_run_with_waves': [datetime.datetime(2008, 9, 10, 1, 0), datetime.datetime(2008, 9, 15, 0, 0)], 'inundation_tropical_UND_ADCIRC_Tides_only_2D_preliminary_run_1_without_advection_implicit_1s': [datetime.datetime(2008, 6, 18, 0, 30), datetime.datetime(2008, 9, 1, 0, 0)], 'inundation_tropical_USF_FVCOM_Hurricane_Ike_2D_final_run_without_waves': [datetime.datetime(2008, 9, 10, 0, 0), datetime.datetime(2008, 9, 17, 12, 0)], 'inundation_tropical_VIMS_SELFE_Hurricane_Rita_2D_final_run_with_waves': [datetime.datetime(2005, 9, 18, 1, 0), datetime.datetime(2005, 9, 25, 0, 0)], 'inundation_extratropical_VIMS_SELFE_2007_2D_final_run_without_waves': [datetime.datetime(2007, 4, 1, 1, 0), datetime.datetime(2007, 4, 30, 0, 0)], 'inundation_tropical_UND_SLOSH_Hurricane_Ike_final_run_egl3': [datetime.datetime(2008, 9, 10, 9, 0), datetime.datetime(2008, 9, 14, 11, 0)], 'inundation_tropical_UND_ADCIRC_Hurricane_Ike_2D_preliminary_run_9_with_waves_and_levees_and_river_flow': [datetime.datetime(2008, 9, 5, 12, 10), datetime.datetime(2008, 9, 17, 12, 0)], 'inundation_tropical_UND_ADCIRC_Hurricane_Ike_2D_preliminary_run_3_spinup_with_levees': [], 'inundation_tropical_VIMS_SELFE_Hurricane_Rita_2D_final_run_waves_only': [datetime.datetime(2005, 9, 18, 0, 10), datetime.datetime(2005, 9, 27, 0, 0)], 'inundation_tropical_USF_FVCOM_Tides_only_2D_preliminary_run_2_varied_manning_minimum_manning_0_025': [datetime.datetime(2008, 6, 18, 0, 0), datetime.datetime(2008, 9, 1, 0, 0)], 'shelf_hypoxia_DAL_ROMS_2004_2009_ias_obc_with_oxygen_hnd_soc_30layers': [], 'inundation_tropical_VIMS_SELFE_Hurricane_Ike_2D_final_run_without_waves': [datetime.datetime(2008, 9, 10, 0, 10), datetime.datetime(2008, 9, 15, 0, 0)], 'inundation_tropical_UND_SLOSH_Hurricane_Ike_preliminary_run_2_egl3_with_SLOSH_winds': [datetime.datetime(2008, 9, 10, 9, 0), datetime.datetime(2008, 9, 14, 11, 0)], 'inundation_extratropical_VIMS_SELFE_2010_2D_preliminary_run_without_waves': [datetime.datetime(2010, 4, 10, 1, 0), datetime.datetime(2010, 6, 1, 0, 0)], 'shelf_hypoxia_DAL_ROMS_2004_2009_climatology_obc_with_oxygen_inst_rem_20layers': [], 'inundation_tropical_UND_ADCIRC_Hurricane_Rita_2D_preliminary_run_5_without_waves_and_advection_implicit_1s': [datetime.datetime(2005, 9, 18, 0, 10), datetime.datetime(2005, 9, 30, 0, 0)], 'inundation_extratropical_VIMS_SELFE_2007_2D_final_run_with_waves': [datetime.datetime(2007, 4, 1, 1, 0), datetime.datetime(2007, 4, 30, 0, 0)], 'inundation_extratropical_VIMS_SELFE_2005_2D_preliminary_run_with_waves': [datetime.datetime(2005, 5, 10, 1, 0), datetime.datetime(2005, 5, 10, 0, 0)]}\n"
       ]
      }
     ],
     "prompt_number": 80
    },
    {
     "cell_type": "markdown",
     "metadata": {},
     "source": [
      "This particular datset has units of hours and the final (approx) 25 elements of the time offset array have value 9e36, causing the num2date to fail."
     ]
    },
    {
     "cell_type": "code",
     "collapsed": false,
     "input": [
      "badurl = urls['estuarine_hypoxia_VIMS_EFDC_2004_DO3d']\n",
      "print badurl\n",
      "d = Dataset(badurl,'r')\n",
      "d.variables.keys()\n",
      "times = d.variables['time'][:]\n",
      "print d.variables['time'].units\n",
      "print times\n",
      "print times[0]\n",
      "print times[-1]\n",
      "np.where(times==times[-1])\n",
      "print times[8627:]\n",
      "print len(times)"
     ],
     "language": "python",
     "metadata": {},
     "outputs": [
      {
       "output_type": "stream",
       "stream": "stdout",
       "text": [
        "http://comt.sura.org/thredds/dodsC/data/comt_1_archive/estuarine_hypoxia/VIMS_EFDC/2004_DO3d\n",
        "hours since 2004-01-01 00:00:00"
       ]
      },
      {
       "output_type": "stream",
       "stream": "stdout",
       "text": [
        "\n",
        "[  5.00000000e-01   1.50000000e+00   2.50000000e+00 ...,   9.96920997e+36\n",
        "   9.96920997e+36   9.96920997e+36]\n",
        "0.5\n",
        "9.96920996839e+36\n",
        "[  8.62750000e+03   9.96920997e+36   9.96920997e+36   9.96920997e+36\n",
        "   9.96920997e+36   9.96920997e+36   9.96920997e+36   9.96920997e+36\n",
        "   9.96920997e+36   9.96920997e+36   9.96920997e+36   9.96920997e+36\n",
        "   9.96920997e+36   9.96920997e+36   9.96920997e+36   9.96920997e+36\n",
        "   9.96920997e+36   9.96920997e+36   9.96920997e+36   9.96920997e+36\n",
        "   9.96920997e+36   9.96920997e+36   9.96920997e+36   9.96920997e+36]\n",
        "8651\n"
       ]
      }
     ],
     "prompt_number": 34
    },
    {
     "cell_type": "code",
     "collapsed": false,
     "input": [],
     "language": "python",
     "metadata": {},
     "outputs": []
    }
   ],
   "metadata": {}
  }
 ]
}
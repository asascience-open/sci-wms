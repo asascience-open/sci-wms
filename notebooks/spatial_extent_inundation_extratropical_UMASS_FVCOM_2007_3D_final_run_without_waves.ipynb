{
 "metadata": {
  "name": "",
  "signature": "sha256:92d7f5eb7d92c66ddc2e3cb0c4b5ff7ac69245de4ee55afc073b44eb57878bdf"
 },
 "nbformat": 3,
 "nbformat_minor": 0,
 "worksheets": [
  {
   "cells": [
    {
     "cell_type": "code",
     "collapsed": false,
     "input": [
      "import numpy as np\n",
      "from netCDF4 import Dataset"
     ],
     "language": "python",
     "metadata": {},
     "outputs": [],
     "prompt_number": 4
    },
    {
     "cell_type": "code",
     "collapsed": false,
     "input": [
      "url = \"http://comt.sura.org/thredds/dodsC/data/comt_1_archive/inundation_extratropical/UMASS_FVCOM/2007_3D_final_run_without_waves\""
     ],
     "language": "python",
     "metadata": {},
     "outputs": [],
     "prompt_number": 5
    },
    {
     "cell_type": "code",
     "collapsed": false,
     "input": [
      "dataset = Dataset(url,'r')"
     ],
     "language": "python",
     "metadata": {},
     "outputs": [],
     "prompt_number": 6
    },
    {
     "cell_type": "code",
     "collapsed": false,
     "input": [
      "dataset.variables.keys()"
     ],
     "language": "python",
     "metadata": {},
     "outputs": [
      {
       "metadata": {},
       "output_type": "pyout",
       "prompt_number": 7,
       "text": [
        "[u'nprocs',\n",
        " u'partition',\n",
        " u'x',\n",
        " u'y',\n",
        " u'lon',\n",
        " u'lat',\n",
        " u'xc',\n",
        " u'yc',\n",
        " u'lonc',\n",
        " u'latc',\n",
        " u'siglay',\n",
        " u'siglev',\n",
        " u'h',\n",
        " u'nv',\n",
        " u'iint',\n",
        " u'time',\n",
        " u'Itime',\n",
        " u'Itime2',\n",
        " u'Times',\n",
        " u'zeta',\n",
        " u'file_date',\n",
        " u'nbe',\n",
        " u'ntsn',\n",
        " u'nbsn',\n",
        " u'ntve',\n",
        " u'nbve',\n",
        " u'a1u',\n",
        " u'a2u',\n",
        " u'aw0',\n",
        " u'awx',\n",
        " u'awy',\n",
        " u'art2',\n",
        " u'art1',\n",
        " u'u',\n",
        " u'v',\n",
        " u'omega',\n",
        " u'ww',\n",
        " u'ua',\n",
        " u'va',\n",
        " u'temp',\n",
        " u'salinity',\n",
        " u'km',\n",
        " u'kh',\n",
        " u'kq',\n",
        " u'q2',\n",
        " u'q2l',\n",
        " u'l',\n",
        " u'uwind_speed',\n",
        " u'vwind_speed',\n",
        " u'wet_nodes',\n",
        " u'wet_cells',\n",
        " u'wet_nodes_prev_int',\n",
        " u'wet_cells_prev_int',\n",
        " u'wet_cells_prev_ext',\n",
        " u'fvcom_mesh']"
       ]
      }
     ],
     "prompt_number": 7
    },
    {
     "cell_type": "code",
     "collapsed": false,
     "input": [
      "lat_obj = dataset.variables.get('lat')\n",
      "print lat_obj\n",
      "print 'lat_obj.ndim = {0}'.format(lat_obj.ndim)\n",
      "lon_obj = dataset.variables.get('lon')\n",
      "print lon_obj\n",
      "print 'lon_obj.ndim = {0}'.format(lon_obj.ndim)\n",
      "\n"
     ],
     "language": "python",
     "metadata": {},
     "outputs": [
      {
       "output_type": "stream",
       "stream": "stdout",
       "text": [
        "<type 'netCDF4.Variable'>\n",
        "float32 lat(node)\n",
        "    long_name: nodal latitude\n",
        "    standard_name: latitude\n",
        "    units: degrees_north\n",
        "unlimited dimensions: \n",
        "current shape = (5620,)\n",
        "filling off\n",
        "\n",
        "lat_obj.ndim = 1\n",
        "<type 'netCDF4.Variable'>\n",
        "float32 lon(node)\n",
        "    long_name: nodal longitude\n",
        "    standard_name: longitude\n",
        "    units: degrees_east\n",
        "unlimited dimensions: \n",
        "current shape = (5620,)\n",
        "filling off\n",
        "\n",
        "lon_obj.ndim = 1\n"
       ]
      }
     ],
     "prompt_number": 20
    },
    {
     "cell_type": "code",
     "collapsed": false,
     "input": [
      "lat = lat_obj[:]\n",
      "lat_min = np.nanmin(lat)\n",
      "lat_max = np.nanmax(lat)\n",
      "print \"({0}, {1})\".format(lat_min, lat_max)"
     ],
     "language": "python",
     "metadata": {},
     "outputs": [
      {
       "output_type": "stream",
       "stream": "stdout",
       "text": [
        "(42.1724243164, 42.2363128662)\n"
       ]
      }
     ],
     "prompt_number": 25
    },
    {
     "cell_type": "code",
     "collapsed": false,
     "input": [
      "lon = lon_obj[:]\n",
      "lon_min = np.nanmin(lon)\n",
      "lon_max = np.nanmax(lat)\n",
      "print \"({0}, {1})\".format(lon_min, lon_max)"
     ],
     "language": "python",
     "metadata": {},
     "outputs": [
      {
       "output_type": "stream",
       "stream": "stdout",
       "text": [
        "(-70.7582321167, 42.2363128662)\n"
       ]
      }
     ],
     "prompt_number": 29
    },
    {
     "cell_type": "code",
     "collapsed": false,
     "input": [
      "if lon_obj and lat_obj:\n",
      "    print \"YES!\""
     ],
     "language": "python",
     "metadata": {},
     "outputs": [
      {
       "output_type": "stream",
       "stream": "stdout",
       "text": [
        "YES!\n"
       ]
      }
     ],
     "prompt_number": 30
    },
    {
     "cell_type": "code",
     "collapsed": false,
     "input": [],
     "language": "python",
     "metadata": {},
     "outputs": []
    }
   ],
   "metadata": {}
  }
 ]
}
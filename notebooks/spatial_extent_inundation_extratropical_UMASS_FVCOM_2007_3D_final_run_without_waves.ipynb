{
 "metadata": {
  "name": "",
  "signature": "sha256:a11c35f438acb70b078b8d93d7d986798ee301f3065ad0b86c615ce008c9dd2d"
 },
 "nbformat": 3,
 "nbformat_minor": 0,
 "worksheets": [
  {
   "cells": [
    {
     "cell_type": "code",
     "collapsed": false,
     "input": [
      "import numpy as np\n",
      "from netCDF4 import Dataset"
     ],
     "language": "python",
     "metadata": {},
     "outputs": [],
     "prompt_number": 3
    },
    {
     "cell_type": "code",
     "collapsed": false,
     "input": [
      "url = \"http://comt.sura.org/thredds/dodsC/data/comt_1_archive/inundation_extratropical/UMASS_FVCOM/2007_3D_final_run_without_waves\""
     ],
     "language": "python",
     "metadata": {},
     "outputs": [],
     "prompt_number": 4
    },
    {
     "cell_type": "code",
     "collapsed": false,
     "input": [
      "dataset = Dataset(url,'r')"
     ],
     "language": "python",
     "metadata": {},
     "outputs": [],
     "prompt_number": 5
    },
    {
     "cell_type": "code",
     "collapsed": false,
     "input": [
      "lat = dataset.variables['lat'][:]\n",
      "lat_min = np.nanmin(lat)\n",
      "lat_max = np.nanmax(lat)\n",
      "print \"({0}, {1})\".format(lat_min, lat_max)"
     ],
     "language": "python",
     "metadata": {},
     "outputs": [
      {
       "output_type": "stream",
       "stream": "stdout",
       "text": [
        "(42.1724243164, 42.2363128662)\n"
       ]
      }
     ],
     "prompt_number": 6
    },
    {
     "cell_type": "code",
     "collapsed": false,
     "input": [
      "lon = dataset.variables['lon'][:]\n",
      "lon_min = np.nanmin(lon)\n",
      "lon_max = np.nanmax(lat)\n",
      "print \"({0}, {1})\".format(lon_min, lon_max)"
     ],
     "language": "python",
     "metadata": {},
     "outputs": [
      {
       "output_type": "stream",
       "stream": "stdout",
       "text": [
        "(-70.7582321167, 42.2363128662)\n"
       ]
      }
     ],
     "prompt_number": 7
    },
    {
     "cell_type": "code",
     "collapsed": false,
     "input": [],
     "language": "python",
     "metadata": {},
     "outputs": []
    }
   ],
   "metadata": {}
  }
 ]
}
{
 "metadata": {
  "name": "",
  "signature": "sha256:9e9d681f4ebd2c81d2fa85717fb2272bb20958978d095d8af5684a5cd4f0c48c"
 },
 "nbformat": 3,
 "nbformat_minor": 0,
 "worksheets": [
  {
   "cells": [
    {
     "cell_type": "code",
     "collapsed": false,
     "input": [
      "import numpy as np\n",
      "from netCDF4 import Dataset"
     ],
     "language": "python",
     "metadata": {},
     "outputs": [],
     "prompt_number": 3
    },
    {
     "cell_type": "code",
     "collapsed": false,
     "input": [
      "url = \"http://comt.sura.org/thredds/dodsC/data/comt_1_archive/inundation_tropical/MDL_SLOSH/Hurricane_Ike_final_run_egm3\""
     ],
     "language": "python",
     "metadata": {},
     "outputs": [],
     "prompt_number": 4
    },
    {
     "cell_type": "code",
     "collapsed": false,
     "input": [
      "dataset = Dataset(url,'r')"
     ],
     "language": "python",
     "metadata": {},
     "outputs": [],
     "prompt_number": 5
    },
    {
     "cell_type": "code",
     "collapsed": false,
     "input": [
      "lat = dataset.variables['lat'][:]\n",
      "lon = dataset.variables['lon'][:]\n",
      "lat_min = lat.min()\n",
      "lat_max = lat.max()\n",
      "lon_min = lon.min()\n",
      "lon_max = lon.max()\n",
      "print 'lat_min = {0}, lat_max = {1}'.format(lat_min, lat_max)\n",
      "print 'lon_min = {0}, lon_max = {1}'.format(lon_min, lon_max)\n",
      "spatial_extent = [lon_min, lat_min, lon_max, lat_max]\n",
      "print 'spatial extent = {0}'.format(spatial_extent)"
     ],
     "language": "python",
     "metadata": {},
     "outputs": [
      {
       "output_type": "stream",
       "stream": "stdout",
       "text": [
        "lat_min = 21.1790497725, lat_max = 31.2237324931\n",
        "lon_min = -99.3931031425, lon_max = -79.7102267783\n",
        "spatial extent = [-99.393103142489934, 21.179049772500615, -79.710226778267227, 31.223732493107558]\n"
       ]
      }
     ],
     "prompt_number": 12
    },
    {
     "cell_type": "code",
     "collapsed": false,
     "input": [],
     "language": "python",
     "metadata": {},
     "outputs": []
    }
   ],
   "metadata": {}
  }
 ]
}
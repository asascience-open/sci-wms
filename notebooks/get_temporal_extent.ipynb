{
 "metadata": {
  "name": "",
  "signature": "sha256:861d2747c41348568bcf1e46c625902b0fa12bb2884289ffb614afe2fc9efad8"
 },
 "nbformat": 3,
 "nbformat_minor": 0,
 "worksheets": [
  {
   "cells": [
    {
     "cell_type": "code",
     "collapsed": false,
     "input": [
      "from datetime import datetime, timedelta\n",
      "\n",
      "import numpy as np\n",
      "from netCDF4 import Dataset, num2date, date2num"
     ],
     "language": "python",
     "metadata": {},
     "outputs": [],
     "prompt_number": 4
    },
    {
     "cell_type": "code",
     "collapsed": false,
     "input": [
      "url = \"http://comt.sura.org/thredds/dodsC/data/comt_1_archive/inundation_tropical/MDL_SLOSH/Hurricane_Ike_final_run_egm3\""
     ],
     "language": "python",
     "metadata": {},
     "outputs": [],
     "prompt_number": 2
    },
    {
     "cell_type": "code",
     "collapsed": false,
     "input": [
      "dataset = Dataset(url,'r')"
     ],
     "language": "python",
     "metadata": {},
     "outputs": [],
     "prompt_number": 3
    },
    {
     "cell_type": "code",
     "collapsed": false,
     "input": [
      "time_obj = dataset.variables['time']\n",
      "times = dataset.variables['time'][:]\n",
      "if hasattr(time_obj, 'calendar'):\n",
      "    calendar = time_obj.calendar\n",
      "    print calendar\n",
      "    \n",
      "if hasattr(time_obj, 'units'):\n",
      "    units = time_obj.units\n",
      "    print \"units = {0}\".format(units)\n",
      "min_time = np.nanmin(times)\n",
      "max_time = np.nanmax(times)\n",
      "    \n",
      "print 'min_time = {0}, max_time = {1}'.format(min_time, max_time)\n",
      "\n",
      "units.split(' ')"
     ],
     "language": "python",
     "metadata": {},
     "outputs": [
      {
       "output_type": "stream",
       "stream": "stdout",
       "text": [
        "gregorian\n",
        "units = minutes since 2008-09-10 09:00:20\n",
        "min_time = 0.0, max_time = 5099.66666667\n"
       ]
      },
      {
       "metadata": {},
       "output_type": "pyout",
       "prompt_number": 36,
       "text": [
        "[u'minutes', u'since', u'2008-09-10', u'09:00:20']"
       ]
      }
     ],
     "prompt_number": 36
    },
    {
     "cell_type": "code",
     "collapsed": false,
     "input": [
      "num2date(times[:10],units=units,calendar=calendar)"
     ],
     "language": "python",
     "metadata": {},
     "outputs": [
      {
       "metadata": {},
       "output_type": "pyout",
       "prompt_number": 37,
       "text": [
        "array([datetime.datetime(2008, 9, 10, 9, 0, 20),\n",
        "       datetime.datetime(2008, 9, 10, 9, 10),\n",
        "       datetime.datetime(2008, 9, 10, 9, 20),\n",
        "       datetime.datetime(2008, 9, 10, 9, 30),\n",
        "       datetime.datetime(2008, 9, 10, 9, 40),\n",
        "       datetime.datetime(2008, 9, 10, 9, 50),\n",
        "       datetime.datetime(2008, 9, 10, 10, 0),\n",
        "       datetime.datetime(2008, 9, 10, 10, 10),\n",
        "       datetime.datetime(2008, 9, 10, 10, 20),\n",
        "       datetime.datetime(2008, 9, 10, 10, 30)], dtype=object)"
       ]
      }
     ],
     "prompt_number": 37
    },
    {
     "cell_type": "code",
     "collapsed": false,
     "input": [
      "num2date(min_time,units=units,calendar=calendar).strftime(\"%Y-%m-%d %H:%M:%S\")"
     ],
     "language": "python",
     "metadata": {},
     "outputs": [
      {
       "metadata": {},
       "output_type": "pyout",
       "prompt_number": 40,
       "text": [
        "'2008-09-10 09:00:20'"
       ]
      }
     ],
     "prompt_number": 40
    },
    {
     "cell_type": "code",
     "collapsed": false,
     "input": [
      "num2date(max_time,units=units,calendar=calendar).strftime(\"%Y-%m-%d %H:%M:%S\")"
     ],
     "language": "python",
     "metadata": {},
     "outputs": [
      {
       "metadata": {},
       "output_type": "pyout",
       "prompt_number": 41,
       "text": [
        "'2008-09-13 22:00:00'"
       ]
      }
     ],
     "prompt_number": 41
    },
    {
     "cell_type": "code",
     "collapsed": false,
     "input": [],
     "language": "python",
     "metadata": {},
     "outputs": []
    }
   ],
   "metadata": {}
  }
 ]
}